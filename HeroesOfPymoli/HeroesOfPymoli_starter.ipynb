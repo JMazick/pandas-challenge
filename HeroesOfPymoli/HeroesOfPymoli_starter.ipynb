{
 "cells": [
  {
   "cell_type": "markdown",
   "metadata": {},
   "source": [
    "### Note\n",
    "* Instructions have been included for each segment. You do not have to follow them exactly, but they are included to help you think through the steps."
   ]
  },
  {
   "cell_type": "code",
   "execution_count": 8,
   "metadata": {},
   "outputs": [],
   "source": [
    "# Dependencies and Setup\n",
    "import pandas as pd\n",
    "import numpy as np\n",
    "import pprint as pprint\n",
    "\n",
    "# File to Load\n",
    "file_to_load = \"../Resources/purchase_data.csv\"\n",
    "\n",
    "# Read Purchasing File and store into Pandas data frame\n",
    "purchase_data = pd.read_csv(file_to_load)"
   ]
  },
  {
   "cell_type": "markdown",
   "metadata": {},
   "source": [
    "## Player Count"
   ]
  },
  {
   "cell_type": "markdown",
   "metadata": {},
   "source": [
    "* Display the total number of players\n"
   ]
  },
  {
   "cell_type": "code",
   "execution_count": 2,
   "metadata": {},
   "outputs": [
    {
     "output_type": "execute_result",
     "data": {
      "text/plain": [
       "   Purchase ID             SN  Age Gender  Item ID  \\\n",
       "0            0        Lisim78   20   Male      108   \n",
       "1            1    Lisovynya38   40   Male      143   \n",
       "2            2     Ithergue48   24   Male       92   \n",
       "3            3  Chamassasya86   24   Male      100   \n",
       "4            4      Iskosia90   23   Male      131   \n",
       "\n",
       "                                   Item Name  Price  \n",
       "0  Extraction, Quickblade Of Trembling Hands   3.53  \n",
       "1                          Frenzied Scimitar   1.56  \n",
       "2                               Final Critic   4.88  \n",
       "3                                Blindscythe   3.27  \n",
       "4                                       Fury   1.44  "
      ],
      "text/html": "<div>\n<style scoped>\n    .dataframe tbody tr th:only-of-type {\n        vertical-align: middle;\n    }\n\n    .dataframe tbody tr th {\n        vertical-align: top;\n    }\n\n    .dataframe thead th {\n        text-align: right;\n    }\n</style>\n<table border=\"1\" class=\"dataframe\">\n  <thead>\n    <tr style=\"text-align: right;\">\n      <th></th>\n      <th>Purchase ID</th>\n      <th>SN</th>\n      <th>Age</th>\n      <th>Gender</th>\n      <th>Item ID</th>\n      <th>Item Name</th>\n      <th>Price</th>\n    </tr>\n  </thead>\n  <tbody>\n    <tr>\n      <th>0</th>\n      <td>0</td>\n      <td>Lisim78</td>\n      <td>20</td>\n      <td>Male</td>\n      <td>108</td>\n      <td>Extraction, Quickblade Of Trembling Hands</td>\n      <td>3.53</td>\n    </tr>\n    <tr>\n      <th>1</th>\n      <td>1</td>\n      <td>Lisovynya38</td>\n      <td>40</td>\n      <td>Male</td>\n      <td>143</td>\n      <td>Frenzied Scimitar</td>\n      <td>1.56</td>\n    </tr>\n    <tr>\n      <th>2</th>\n      <td>2</td>\n      <td>Ithergue48</td>\n      <td>24</td>\n      <td>Male</td>\n      <td>92</td>\n      <td>Final Critic</td>\n      <td>4.88</td>\n    </tr>\n    <tr>\n      <th>3</th>\n      <td>3</td>\n      <td>Chamassasya86</td>\n      <td>24</td>\n      <td>Male</td>\n      <td>100</td>\n      <td>Blindscythe</td>\n      <td>3.27</td>\n    </tr>\n    <tr>\n      <th>4</th>\n      <td>4</td>\n      <td>Iskosia90</td>\n      <td>23</td>\n      <td>Male</td>\n      <td>131</td>\n      <td>Fury</td>\n      <td>1.44</td>\n    </tr>\n  </tbody>\n</table>\n</div>"
     },
     "metadata": {},
     "execution_count": 2
    }
   ],
   "source": [
    "purchase_data.head()"
   ]
  },
  {
   "cell_type": "code",
   "execution_count": 3,
   "metadata": {},
   "outputs": [
    {
     "output_type": "stream",
     "name": "stdout",
     "text": [
      "Total Players: [576]\n"
     ]
    }
   ],
   "source": [
    "clean_purchase_data = purchase_data.drop_duplicates(subset=['SN'])\n",
    "SN = len(clean_purchase_data['SN'])\n",
    "print(f'Total Players:', [SN])"
   ]
  },
  {
   "cell_type": "markdown",
   "metadata": {},
   "source": [
    "## Purchasing Analysis (Total)"
   ]
  },
  {
   "cell_type": "markdown",
   "metadata": {},
   "source": [
    "* Run basic calculations to obtain number of unique items, average price, etc.\n",
    "\n",
    "\n",
    "* Create a summary data frame to hold the results\n",
    "\n",
    "\n",
    "* Optional: give the displayed data cleaner formatting\n",
    "\n",
    "\n",
    "* Display the summary data frame\n"
   ]
  },
  {
   "cell_type": "code",
   "execution_count": 4,
   "metadata": {
    "scrolled": true
   },
   "outputs": [],
   "source": [
    "unique_items = len(pd.unique(purchase_data['Item Name']))\n",
    "avg_price = round(purchase_data[\"Price\"].mean(), 2)\n",
    "purchases = len(purchase_data['Purchase ID'])\n",
    "total_revenue = purchase_data[\"Price\"].sum()"
   ]
  },
  {
   "cell_type": "code",
   "execution_count": 5,
   "metadata": {},
   "outputs": [
    {
     "output_type": "execute_result",
     "data": {
      "text/plain": [
       "   Unique Items  Average Price  Purchases  Total Revenue ($)\n",
       "0           179           3.05        780            2379.77"
      ],
      "text/html": "<div>\n<style scoped>\n    .dataframe tbody tr th:only-of-type {\n        vertical-align: middle;\n    }\n\n    .dataframe tbody tr th {\n        vertical-align: top;\n    }\n\n    .dataframe thead th {\n        text-align: right;\n    }\n</style>\n<table border=\"1\" class=\"dataframe\">\n  <thead>\n    <tr style=\"text-align: right;\">\n      <th></th>\n      <th>Unique Items</th>\n      <th>Average Price</th>\n      <th>Purchases</th>\n      <th>Total Revenue ($)</th>\n    </tr>\n  </thead>\n  <tbody>\n    <tr>\n      <th>0</th>\n      <td>179</td>\n      <td>3.05</td>\n      <td>780</td>\n      <td>2379.77</td>\n    </tr>\n  </tbody>\n</table>\n</div>"
     },
     "metadata": {},
     "execution_count": 5
    }
   ],
   "source": [
    "results = {\n",
    "    'Unique Items': [unique_items],\n",
    "    'Average Price': [avg_price],\n",
    "    'Purchases': [purchases],\n",
    "    'Total Revenue ($)': [total_revenue]}\n",
    "\n",
    "results_df = pd.DataFrame(results)\n",
    "results_df"
   ]
  },
  {
   "cell_type": "markdown",
   "metadata": {},
   "source": [
    "## Gender Demographics"
   ]
  },
  {
   "cell_type": "markdown",
   "metadata": {},
   "source": [
    "* Percentage and Count of Male Players\n",
    "\n",
    "\n",
    "* Percentage and Count of Female Players\n",
    "\n",
    "\n",
    "* Percentage and Count of Other / Non-Disclosed\n",
    "\n",
    "\n"
   ]
  },
  {
   "cell_type": "code",
   "execution_count": 7,
   "metadata": {},
   "outputs": [],
   "source": [
    "gender_count = purchase_data['Gender'].value_counts()"
   ]
  },
  {
   "cell_type": "code",
   "execution_count": 8,
   "metadata": {},
   "outputs": [
    {
     "output_type": "execute_result",
     "data": {
      "text/plain": [
       "Male                     83.59\n",
       "Female                   14.49\n",
       "Other / Non-Disclosed     1.92\n",
       "Name: Gender, dtype: float64"
      ]
     },
     "metadata": {},
     "execution_count": 8
    }
   ],
   "source": [
    "# Percentage calculation\n",
    "gender_percent = round((purchase_data['Gender'].value_counts()/purchase_data['Gender'].count())*100, 2)\n",
    "gender_percent"
   ]
  },
  {
   "cell_type": "code",
   "execution_count": 9,
   "metadata": {},
   "outputs": [
    {
     "output_type": "execute_result",
     "data": {
      "text/plain": [
       "{'Total Count': Male                     652\n",
       " Female                   113\n",
       " Other / Non-Disclosed     15\n",
       " Name: Gender, dtype: int64,\n",
       " 'Percentage of Players (%)': Male                     83.59\n",
       " Female                   14.49\n",
       " Other / Non-Disclosed     1.92\n",
       " Name: Gender, dtype: float64}"
      ]
     },
     "metadata": {},
     "execution_count": 9
    }
   ],
   "source": [
    "gender_demo = {\n",
    "    'Total Count': gender_count,\n",
    "    'Percentage of Players (%)': gender_percent\n",
    "}\n",
    "gender_demo"
   ]
  },
  {
   "cell_type": "code",
   "execution_count": 10,
   "metadata": {},
   "outputs": [
    {
     "output_type": "execute_result",
     "data": {
      "text/plain": [
       "                       Total Count  Percentage of Players (%)\n",
       "Male                           652                      83.59\n",
       "Female                         113                      14.49\n",
       "Other / Non-Disclosed           15                       1.92"
      ],
      "text/html": "<div>\n<style scoped>\n    .dataframe tbody tr th:only-of-type {\n        vertical-align: middle;\n    }\n\n    .dataframe tbody tr th {\n        vertical-align: top;\n    }\n\n    .dataframe thead th {\n        text-align: right;\n    }\n</style>\n<table border=\"1\" class=\"dataframe\">\n  <thead>\n    <tr style=\"text-align: right;\">\n      <th></th>\n      <th>Total Count</th>\n      <th>Percentage of Players (%)</th>\n    </tr>\n  </thead>\n  <tbody>\n    <tr>\n      <th>Male</th>\n      <td>652</td>\n      <td>83.59</td>\n    </tr>\n    <tr>\n      <th>Female</th>\n      <td>113</td>\n      <td>14.49</td>\n    </tr>\n    <tr>\n      <th>Other / Non-Disclosed</th>\n      <td>15</td>\n      <td>1.92</td>\n    </tr>\n  </tbody>\n</table>\n</div>"
     },
     "metadata": {},
     "execution_count": 10
    }
   ],
   "source": [
    "gender_df = pd.DataFrame(gender_demo)\n",
    "gender_df"
   ]
  },
  {
   "cell_type": "markdown",
   "metadata": {},
   "source": [
    "\n",
    "## Purchasing Analysis (Gender)"
   ]
  },
  {
   "cell_type": "markdown",
   "metadata": {},
   "source": [
    "* Run basic calculations to obtain purchase count, avg. purchase price, avg. purchase total per person etc. by gender\n",
    "\n",
    "\n",
    "\n",
    "\n",
    "* Create a summary data frame to hold the results\n",
    "\n",
    "\n",
    "* Optional: give the displayed data cleaner formatting\n",
    "\n",
    "\n",
    "* Display the summary data frame"
   ]
  },
  {
   "cell_type": "code",
   "execution_count": 11,
   "metadata": {},
   "outputs": [
    {
     "output_type": "execute_result",
     "data": {
      "text/plain": [
       "                       Purchase ID\n",
       "Gender                            \n",
       "Female                         113\n",
       "Male                           652\n",
       "Other / Non-Disclosed           15"
      ],
      "text/html": "<div>\n<style scoped>\n    .dataframe tbody tr th:only-of-type {\n        vertical-align: middle;\n    }\n\n    .dataframe tbody tr th {\n        vertical-align: top;\n    }\n\n    .dataframe thead th {\n        text-align: right;\n    }\n</style>\n<table border=\"1\" class=\"dataframe\">\n  <thead>\n    <tr style=\"text-align: right;\">\n      <th></th>\n      <th>Purchase ID</th>\n    </tr>\n    <tr>\n      <th>Gender</th>\n      <th></th>\n    </tr>\n  </thead>\n  <tbody>\n    <tr>\n      <th>Female</th>\n      <td>113</td>\n    </tr>\n    <tr>\n      <th>Male</th>\n      <td>652</td>\n    </tr>\n    <tr>\n      <th>Other / Non-Disclosed</th>\n      <td>15</td>\n    </tr>\n  </tbody>\n</table>\n</div>"
     },
     "metadata": {},
     "execution_count": 11
    }
   ],
   "source": [
    "purchase_gender = purchase_data[['Purchase ID', 'Gender']]\n",
    "purchase_gender_count = purchase_gender.groupby('Gender').count()\n",
    "purchase_gender_count"
   ]
  },
  {
   "cell_type": "code",
   "execution_count": 45,
   "metadata": {},
   "outputs": [
    {
     "output_type": "execute_result",
     "data": {
      "text/plain": [
       "                       Avg. Purchase Price ($)\n",
       "Gender                                        \n",
       "Female                                    3.20\n",
       "Male                                      3.02\n",
       "Other / Non-Disclosed                     3.35"
      ],
      "text/html": "<div>\n<style scoped>\n    .dataframe tbody tr th:only-of-type {\n        vertical-align: middle;\n    }\n\n    .dataframe tbody tr th {\n        vertical-align: top;\n    }\n\n    .dataframe thead th {\n        text-align: right;\n    }\n</style>\n<table border=\"1\" class=\"dataframe\">\n  <thead>\n    <tr style=\"text-align: right;\">\n      <th></th>\n      <th>Avg. Purchase Price ($)</th>\n    </tr>\n    <tr>\n      <th>Gender</th>\n      <th></th>\n    </tr>\n  </thead>\n  <tbody>\n    <tr>\n      <th>Female</th>\n      <td>3.20</td>\n    </tr>\n    <tr>\n      <th>Male</th>\n      <td>3.02</td>\n    </tr>\n    <tr>\n      <th>Other / Non-Disclosed</th>\n      <td>3.35</td>\n    </tr>\n  </tbody>\n</table>\n</div>"
     },
     "metadata": {},
     "execution_count": 45
    }
   ],
   "source": [
    "price_gender = round(purchase_data[['Gender', 'Price']].groupby('Gender').mean(), 2)\n",
    "price_gender = price_gender.rename(columns={\"Price\": \"Avg. Purchase Price ($)\"})\n",
    "price_gender_df = pd.DataFrame(price_gender)\n",
    "price_gender_df"
   ]
  },
  {
   "cell_type": "code",
   "execution_count": 29,
   "metadata": {},
   "outputs": [
    {
     "output_type": "execute_result",
     "data": {
      "text/plain": [
       "                       Purchase Total ($)\n",
       "Gender                                   \n",
       "Female                             361.94\n",
       "Male                              1967.64\n",
       "Other / Non-Disclosed               50.19"
      ],
      "text/html": "<div>\n<style scoped>\n    .dataframe tbody tr th:only-of-type {\n        vertical-align: middle;\n    }\n\n    .dataframe tbody tr th {\n        vertical-align: top;\n    }\n\n    .dataframe thead th {\n        text-align: right;\n    }\n</style>\n<table border=\"1\" class=\"dataframe\">\n  <thead>\n    <tr style=\"text-align: right;\">\n      <th></th>\n      <th>Purchase Total ($)</th>\n    </tr>\n    <tr>\n      <th>Gender</th>\n      <th></th>\n    </tr>\n  </thead>\n  <tbody>\n    <tr>\n      <th>Female</th>\n      <td>361.94</td>\n    </tr>\n    <tr>\n      <th>Male</th>\n      <td>1967.64</td>\n    </tr>\n    <tr>\n      <th>Other / Non-Disclosed</th>\n      <td>50.19</td>\n    </tr>\n  </tbody>\n</table>\n</div>"
     },
     "metadata": {},
     "execution_count": 29
    }
   ],
   "source": [
    "total_gender = purchase_data[['Gender', 'Price']].groupby('Gender').sum()\n",
    "total_gender = total_gender.rename(columns={\"Price\": \"Purchase Total ($)\"})\n",
    "total_gender_df = pd.DataFrame(total_gender)\n",
    "total_gender_df"
   ]
  },
  {
   "cell_type": "code",
   "execution_count": 43,
   "metadata": {},
   "outputs": [
    {
     "output_type": "execute_result",
     "data": {
      "text/plain": [
       "                       Purchase ID\n",
       "Gender                            \n",
       "Female                         113\n",
       "Male                           652\n",
       "Other / Non-Disclosed           15"
      ],
      "text/html": "<div>\n<style scoped>\n    .dataframe tbody tr th:only-of-type {\n        vertical-align: middle;\n    }\n\n    .dataframe tbody tr th {\n        vertical-align: top;\n    }\n\n    .dataframe thead th {\n        text-align: right;\n    }\n</style>\n<table border=\"1\" class=\"dataframe\">\n  <thead>\n    <tr style=\"text-align: right;\">\n      <th></th>\n      <th>Purchase ID</th>\n    </tr>\n    <tr>\n      <th>Gender</th>\n      <th></th>\n    </tr>\n  </thead>\n  <tbody>\n    <tr>\n      <th>Female</th>\n      <td>113</td>\n    </tr>\n    <tr>\n      <th>Male</th>\n      <td>652</td>\n    </tr>\n    <tr>\n      <th>Other / Non-Disclosed</th>\n      <td>15</td>\n    </tr>\n  </tbody>\n</table>\n</div>"
     },
     "metadata": {},
     "execution_count": 43
    }
   ],
   "source": [
    "purchasing_df = pd.DataFrame(purchase_gender_count)\n",
    "purchasing_df"
   ]
  },
  {
   "cell_type": "code",
   "execution_count": 44,
   "metadata": {},
   "outputs": [
    {
     "output_type": "execute_result",
     "data": {
      "text/plain": [
       "   Purchase ID  Purchase Total ($)\n",
       "0        113.0                 NaN\n",
       "1        652.0                 NaN\n",
       "2         15.0                 NaN\n",
       "3          NaN              361.94\n",
       "4          NaN             1967.64\n",
       "5          NaN               50.19"
      ],
      "text/html": "<div>\n<style scoped>\n    .dataframe tbody tr th:only-of-type {\n        vertical-align: middle;\n    }\n\n    .dataframe tbody tr th {\n        vertical-align: top;\n    }\n\n    .dataframe thead th {\n        text-align: right;\n    }\n</style>\n<table border=\"1\" class=\"dataframe\">\n  <thead>\n    <tr style=\"text-align: right;\">\n      <th></th>\n      <th>Purchase ID</th>\n      <th>Purchase Total ($)</th>\n    </tr>\n  </thead>\n  <tbody>\n    <tr>\n      <th>0</th>\n      <td>113.0</td>\n      <td>NaN</td>\n    </tr>\n    <tr>\n      <th>1</th>\n      <td>652.0</td>\n      <td>NaN</td>\n    </tr>\n    <tr>\n      <th>2</th>\n      <td>15.0</td>\n      <td>NaN</td>\n    </tr>\n    <tr>\n      <th>3</th>\n      <td>NaN</td>\n      <td>361.94</td>\n    </tr>\n    <tr>\n      <th>4</th>\n      <td>NaN</td>\n      <td>1967.64</td>\n    </tr>\n    <tr>\n      <th>5</th>\n      <td>NaN</td>\n      <td>50.19</td>\n    </tr>\n  </tbody>\n</table>\n</div>"
     },
     "metadata": {},
     "execution_count": 44
    }
   ],
   "source": [
    "purchasing_df = purchasing_df.append(total_gender_df, ignore_index=True)\n",
    "purchasing_df"
   ]
  },
  {
   "cell_type": "code",
   "execution_count": 46,
   "metadata": {},
   "outputs": [
    {
     "output_type": "execute_result",
     "data": {
      "text/plain": [
       "   Purchase ID  Purchase Total ($)  Avg. Purchase Price ($)\n",
       "0        113.0                 NaN                      NaN\n",
       "1        652.0                 NaN                      NaN\n",
       "2         15.0                 NaN                      NaN\n",
       "3          NaN              361.94                      NaN\n",
       "4          NaN             1967.64                      NaN\n",
       "5          NaN               50.19                      NaN\n",
       "6          NaN                 NaN                     3.20\n",
       "7          NaN                 NaN                     3.02\n",
       "8          NaN                 NaN                     3.35"
      ],
      "text/html": "<div>\n<style scoped>\n    .dataframe tbody tr th:only-of-type {\n        vertical-align: middle;\n    }\n\n    .dataframe tbody tr th {\n        vertical-align: top;\n    }\n\n    .dataframe thead th {\n        text-align: right;\n    }\n</style>\n<table border=\"1\" class=\"dataframe\">\n  <thead>\n    <tr style=\"text-align: right;\">\n      <th></th>\n      <th>Purchase ID</th>\n      <th>Purchase Total ($)</th>\n      <th>Avg. Purchase Price ($)</th>\n    </tr>\n  </thead>\n  <tbody>\n    <tr>\n      <th>0</th>\n      <td>113.0</td>\n      <td>NaN</td>\n      <td>NaN</td>\n    </tr>\n    <tr>\n      <th>1</th>\n      <td>652.0</td>\n      <td>NaN</td>\n      <td>NaN</td>\n    </tr>\n    <tr>\n      <th>2</th>\n      <td>15.0</td>\n      <td>NaN</td>\n      <td>NaN</td>\n    </tr>\n    <tr>\n      <th>3</th>\n      <td>NaN</td>\n      <td>361.94</td>\n      <td>NaN</td>\n    </tr>\n    <tr>\n      <th>4</th>\n      <td>NaN</td>\n      <td>1967.64</td>\n      <td>NaN</td>\n    </tr>\n    <tr>\n      <th>5</th>\n      <td>NaN</td>\n      <td>50.19</td>\n      <td>NaN</td>\n    </tr>\n    <tr>\n      <th>6</th>\n      <td>NaN</td>\n      <td>NaN</td>\n      <td>3.20</td>\n    </tr>\n    <tr>\n      <th>7</th>\n      <td>NaN</td>\n      <td>NaN</td>\n      <td>3.02</td>\n    </tr>\n    <tr>\n      <th>8</th>\n      <td>NaN</td>\n      <td>NaN</td>\n      <td>3.35</td>\n    </tr>\n  </tbody>\n</table>\n</div>"
     },
     "metadata": {},
     "execution_count": 46
    }
   ],
   "source": [
    "purchasing_df = purchasing_df.append(price_gender_df, ignore_index=True)\n",
    "purchasing_df"
   ]
  },
  {
   "cell_type": "code",
   "execution_count": 55,
   "metadata": {},
   "outputs": [
    {
     "output_type": "execute_result",
     "data": {
      "text/plain": [
       "   Purchase Count  Purchase Total ($)  Avg. Purchase Price ($)\n",
       "0           113.0                 NaN                      NaN\n",
       "1           652.0                 NaN                      NaN\n",
       "2            15.0                 NaN                      NaN\n",
       "3             NaN              361.94                      NaN\n",
       "4             NaN             1967.64                      NaN\n",
       "5             NaN               50.19                      NaN\n",
       "6             NaN                 NaN                     3.20\n",
       "7             NaN                 NaN                     3.02\n",
       "8             NaN                 NaN                     3.35"
      ],
      "text/html": "<div>\n<style scoped>\n    .dataframe tbody tr th:only-of-type {\n        vertical-align: middle;\n    }\n\n    .dataframe tbody tr th {\n        vertical-align: top;\n    }\n\n    .dataframe thead th {\n        text-align: right;\n    }\n</style>\n<table border=\"1\" class=\"dataframe\">\n  <thead>\n    <tr style=\"text-align: right;\">\n      <th></th>\n      <th>Purchase Count</th>\n      <th>Purchase Total ($)</th>\n      <th>Avg. Purchase Price ($)</th>\n    </tr>\n  </thead>\n  <tbody>\n    <tr>\n      <th>0</th>\n      <td>113.0</td>\n      <td>NaN</td>\n      <td>NaN</td>\n    </tr>\n    <tr>\n      <th>1</th>\n      <td>652.0</td>\n      <td>NaN</td>\n      <td>NaN</td>\n    </tr>\n    <tr>\n      <th>2</th>\n      <td>15.0</td>\n      <td>NaN</td>\n      <td>NaN</td>\n    </tr>\n    <tr>\n      <th>3</th>\n      <td>NaN</td>\n      <td>361.94</td>\n      <td>NaN</td>\n    </tr>\n    <tr>\n      <th>4</th>\n      <td>NaN</td>\n      <td>1967.64</td>\n      <td>NaN</td>\n    </tr>\n    <tr>\n      <th>5</th>\n      <td>NaN</td>\n      <td>50.19</td>\n      <td>NaN</td>\n    </tr>\n    <tr>\n      <th>6</th>\n      <td>NaN</td>\n      <td>NaN</td>\n      <td>3.20</td>\n    </tr>\n    <tr>\n      <th>7</th>\n      <td>NaN</td>\n      <td>NaN</td>\n      <td>3.02</td>\n    </tr>\n    <tr>\n      <th>8</th>\n      <td>NaN</td>\n      <td>NaN</td>\n      <td>3.35</td>\n    </tr>\n  </tbody>\n</table>\n</div>"
     },
     "metadata": {},
     "execution_count": 55
    }
   ],
   "source": [
    "purchasing_df = purchasing_df.rename(columns={\"Purchase ID\": \"Purchase Count\"})\n",
    "purchasing_df"
   ]
  },
  {
   "cell_type": "code",
   "execution_count": 5,
   "metadata": {},
   "outputs": [
    {
     "data": {
      "text/html": [
       "<div>\n",
       "<style scoped>\n",
       "    .dataframe tbody tr th:only-of-type {\n",
       "        vertical-align: middle;\n",
       "    }\n",
       "\n",
       "    .dataframe tbody tr th {\n",
       "        vertical-align: top;\n",
       "    }\n",
       "\n",
       "    .dataframe thead th {\n",
       "        text-align: right;\n",
       "    }\n",
       "</style>\n",
       "<table border=\"1\" class=\"dataframe\">\n",
       "  <thead>\n",
       "    <tr style=\"text-align: right;\">\n",
       "      <th></th>\n",
       "      <th>Purchase Count</th>\n",
       "      <th>Average Purchase Price</th>\n",
       "      <th>Total Purchase Value</th>\n",
       "      <th>Avg Total Purchase per Person</th>\n",
       "    </tr>\n",
       "    <tr>\n",
       "      <th>Gender</th>\n",
       "      <th></th>\n",
       "      <th></th>\n",
       "      <th></th>\n",
       "      <th></th>\n",
       "    </tr>\n",
       "  </thead>\n",
       "  <tbody>\n",
       "    <tr>\n",
       "      <th>Female</th>\n",
       "      <td>113</td>\n",
       "      <td>$3.20</td>\n",
       "      <td>$361.94</td>\n",
       "      <td>$4.47</td>\n",
       "    </tr>\n",
       "    <tr>\n",
       "      <th>Male</th>\n",
       "      <td>652</td>\n",
       "      <td>$3.02</td>\n",
       "      <td>$1,967.64</td>\n",
       "      <td>$4.07</td>\n",
       "    </tr>\n",
       "    <tr>\n",
       "      <th>Other / Non-Disclosed</th>\n",
       "      <td>15</td>\n",
       "      <td>$3.35</td>\n",
       "      <td>$50.19</td>\n",
       "      <td>$4.56</td>\n",
       "    </tr>\n",
       "  </tbody>\n",
       "</table>\n",
       "</div>"
      ],
      "text/plain": [
       "                      Purchase Count Average Purchase Price  \\\n",
       "Gender                                                        \n",
       "Female                           113                  $3.20   \n",
       "Male                             652                  $3.02   \n",
       "Other / Non-Disclosed             15                  $3.35   \n",
       "\n",
       "                      Total Purchase Value Avg Total Purchase per Person  \n",
       "Gender                                                                    \n",
       "Female                             $361.94                         $4.47  \n",
       "Male                             $1,967.64                         $4.07  \n",
       "Other / Non-Disclosed               $50.19                         $4.56  "
      ]
     },
     "execution_count": 5,
     "metadata": {},
     "output_type": "execute_result"
    }
   ],
   "source": []
  },
  {
   "cell_type": "markdown",
   "metadata": {},
   "source": [
    "## Age Demographics"
   ]
  },
  {
   "cell_type": "markdown",
   "metadata": {},
   "source": [
    "* Establish bins for ages\n",
    "\n",
    "\n",
    "* Categorize the existing players using the age bins. Hint: use pd.cut()\n",
    "\n",
    "\n",
    "* Calculate the numbers and percentages by age group\n",
    "\n",
    "\n",
    "* Create a summary data frame to hold the results\n",
    "\n",
    "\n",
    "* Optional: round the percentage column to two decimal points\n",
    "\n",
    "\n",
    "* Display Age Demographics Table\n"
   ]
  },
  {
   "cell_type": "code",
   "execution_count": 3,
   "metadata": {},
   "outputs": [],
   "source": [
    "# Create the bins in which Data will be held\n",
    "bins = [0, 9, 14, 19, 24, 29, 34, 40]\n",
    "\n",
    "# Create the names for the five bins\n",
    "group_names = [\"<10\", \"10-14\", \"15-19\", \"20-24\", \"25-29\", \"30-34\", \"40+\"]"
   ]
  },
  {
   "cell_type": "code",
   "execution_count": 58,
   "metadata": {},
   "outputs": [
    {
     "output_type": "execute_result",
     "data": {
      "text/plain": [
       "     Age\n",
       "0     20\n",
       "1     40\n",
       "2     24\n",
       "3     24\n",
       "4     23\n",
       "..   ...\n",
       "775   21\n",
       "776   21\n",
       "777   20\n",
       "778    7\n",
       "779   24\n",
       "\n",
       "[780 rows x 1 columns]"
      ],
      "text/html": "<div>\n<style scoped>\n    .dataframe tbody tr th:only-of-type {\n        vertical-align: middle;\n    }\n\n    .dataframe tbody tr th {\n        vertical-align: top;\n    }\n\n    .dataframe thead th {\n        text-align: right;\n    }\n</style>\n<table border=\"1\" class=\"dataframe\">\n  <thead>\n    <tr style=\"text-align: right;\">\n      <th></th>\n      <th>Age</th>\n    </tr>\n  </thead>\n  <tbody>\n    <tr>\n      <th>0</th>\n      <td>20</td>\n    </tr>\n    <tr>\n      <th>1</th>\n      <td>40</td>\n    </tr>\n    <tr>\n      <th>2</th>\n      <td>24</td>\n    </tr>\n    <tr>\n      <th>3</th>\n      <td>24</td>\n    </tr>\n    <tr>\n      <th>4</th>\n      <td>23</td>\n    </tr>\n    <tr>\n      <th>...</th>\n      <td>...</td>\n    </tr>\n    <tr>\n      <th>775</th>\n      <td>21</td>\n    </tr>\n    <tr>\n      <th>776</th>\n      <td>21</td>\n    </tr>\n    <tr>\n      <th>777</th>\n      <td>20</td>\n    </tr>\n    <tr>\n      <th>778</th>\n      <td>7</td>\n    </tr>\n    <tr>\n      <th>779</th>\n      <td>24</td>\n    </tr>\n  </tbody>\n</table>\n<p>780 rows × 1 columns</p>\n</div>"
     },
     "metadata": {},
     "execution_count": 58
    }
   ],
   "source": [
    "age_demo = purchase_data['Age']\n",
    "age_demo_df = pd.DataFrame(age_demo)\n",
    "age_demo_df"
   ]
  },
  {
   "cell_type": "code",
   "execution_count": 59,
   "metadata": {},
   "outputs": [
    {
     "output_type": "execute_result",
     "data": {
      "text/plain": [
       "     Age Age Category\n",
       "0     20        20-24\n",
       "1     40          40+\n",
       "2     24        20-24\n",
       "3     24        20-24\n",
       "4     23        20-24\n",
       "..   ...          ...\n",
       "775   21        20-24\n",
       "776   21        20-24\n",
       "777   20        20-24\n",
       "778    7          <10\n",
       "779   24        20-24\n",
       "\n",
       "[780 rows x 2 columns]"
      ],
      "text/html": "<div>\n<style scoped>\n    .dataframe tbody tr th:only-of-type {\n        vertical-align: middle;\n    }\n\n    .dataframe tbody tr th {\n        vertical-align: top;\n    }\n\n    .dataframe thead th {\n        text-align: right;\n    }\n</style>\n<table border=\"1\" class=\"dataframe\">\n  <thead>\n    <tr style=\"text-align: right;\">\n      <th></th>\n      <th>Age</th>\n      <th>Age Category</th>\n    </tr>\n  </thead>\n  <tbody>\n    <tr>\n      <th>0</th>\n      <td>20</td>\n      <td>20-24</td>\n    </tr>\n    <tr>\n      <th>1</th>\n      <td>40</td>\n      <td>40+</td>\n    </tr>\n    <tr>\n      <th>2</th>\n      <td>24</td>\n      <td>20-24</td>\n    </tr>\n    <tr>\n      <th>3</th>\n      <td>24</td>\n      <td>20-24</td>\n    </tr>\n    <tr>\n      <th>4</th>\n      <td>23</td>\n      <td>20-24</td>\n    </tr>\n    <tr>\n      <th>...</th>\n      <td>...</td>\n      <td>...</td>\n    </tr>\n    <tr>\n      <th>775</th>\n      <td>21</td>\n      <td>20-24</td>\n    </tr>\n    <tr>\n      <th>776</th>\n      <td>21</td>\n      <td>20-24</td>\n    </tr>\n    <tr>\n      <th>777</th>\n      <td>20</td>\n      <td>20-24</td>\n    </tr>\n    <tr>\n      <th>778</th>\n      <td>7</td>\n      <td>&lt;10</td>\n    </tr>\n    <tr>\n      <th>779</th>\n      <td>24</td>\n      <td>20-24</td>\n    </tr>\n  </tbody>\n</table>\n<p>780 rows × 2 columns</p>\n</div>"
     },
     "metadata": {},
     "execution_count": 59
    }
   ],
   "source": [
    "age_demo_df[\"Age Category\"] = pd.cut(age_demo_df[\"Age\"], bins, labels=group_names, include_lowest=True) # inlclude_lowest=False is default, and it means left-include 1st interval or not\n",
    "# age_demo_df = age_demo_df.set_index('Age Category')\n",
    "age_demo_df"
   ]
  },
  {
   "cell_type": "code",
   "execution_count": 60,
   "metadata": {},
   "outputs": [
    {
     "output_type": "execute_result",
     "data": {
      "text/plain": [
       "              Age\n",
       "Age Category     \n",
       "<10            23\n",
       "10-14          28\n",
       "15-19         136\n",
       "20-24         365\n",
       "25-29         101\n",
       "30-34          73\n",
       "40+            47"
      ],
      "text/html": "<div>\n<style scoped>\n    .dataframe tbody tr th:only-of-type {\n        vertical-align: middle;\n    }\n\n    .dataframe tbody tr th {\n        vertical-align: top;\n    }\n\n    .dataframe thead th {\n        text-align: right;\n    }\n</style>\n<table border=\"1\" class=\"dataframe\">\n  <thead>\n    <tr style=\"text-align: right;\">\n      <th></th>\n      <th>Age</th>\n    </tr>\n    <tr>\n      <th>Age Category</th>\n      <th></th>\n    </tr>\n  </thead>\n  <tbody>\n    <tr>\n      <th>&lt;10</th>\n      <td>23</td>\n    </tr>\n    <tr>\n      <th>10-14</th>\n      <td>28</td>\n    </tr>\n    <tr>\n      <th>15-19</th>\n      <td>136</td>\n    </tr>\n    <tr>\n      <th>20-24</th>\n      <td>365</td>\n    </tr>\n    <tr>\n      <th>25-29</th>\n      <td>101</td>\n    </tr>\n    <tr>\n      <th>30-34</th>\n      <td>73</td>\n    </tr>\n    <tr>\n      <th>40+</th>\n      <td>47</td>\n    </tr>\n  </tbody>\n</table>\n</div>"
     },
     "metadata": {},
     "execution_count": 60
    }
   ],
   "source": [
    "age_demo_df = age_demo_df.groupby('Age Category').count()\n",
    "age_demo_df\n"
   ]
  },
  {
   "cell_type": "code",
   "execution_count": 61,
   "metadata": {},
   "outputs": [
    {
     "output_type": "execute_result",
     "data": {
      "text/plain": [
       "              Total Count\n",
       "Age Category             \n",
       "<10                    23\n",
       "10-14                  28\n",
       "15-19                 136\n",
       "20-24                 365\n",
       "25-29                 101\n",
       "30-34                  73\n",
       "40+                    47"
      ],
      "text/html": "<div>\n<style scoped>\n    .dataframe tbody tr th:only-of-type {\n        vertical-align: middle;\n    }\n\n    .dataframe tbody tr th {\n        vertical-align: top;\n    }\n\n    .dataframe thead th {\n        text-align: right;\n    }\n</style>\n<table border=\"1\" class=\"dataframe\">\n  <thead>\n    <tr style=\"text-align: right;\">\n      <th></th>\n      <th>Total Count</th>\n    </tr>\n    <tr>\n      <th>Age Category</th>\n      <th></th>\n    </tr>\n  </thead>\n  <tbody>\n    <tr>\n      <th>&lt;10</th>\n      <td>23</td>\n    </tr>\n    <tr>\n      <th>10-14</th>\n      <td>28</td>\n    </tr>\n    <tr>\n      <th>15-19</th>\n      <td>136</td>\n    </tr>\n    <tr>\n      <th>20-24</th>\n      <td>365</td>\n    </tr>\n    <tr>\n      <th>25-29</th>\n      <td>101</td>\n    </tr>\n    <tr>\n      <th>30-34</th>\n      <td>73</td>\n    </tr>\n    <tr>\n      <th>40+</th>\n      <td>47</td>\n    </tr>\n  </tbody>\n</table>\n</div>"
     },
     "metadata": {},
     "execution_count": 61
    }
   ],
   "source": [
    "age_demo_df = age_demo_df.rename(columns={\"Age\": \"Total Count\"})\n",
    "age_demo_df"
   ]
  },
  {
   "cell_type": "code",
   "execution_count": 62,
   "metadata": {},
   "outputs": [
    {
     "output_type": "execute_result",
     "data": {
      "text/plain": [
       "              Total Count  Percentage of Players\n",
       "Age Category                                    \n",
       "<10                    23               2.948718\n",
       "10-14                  28               3.589744\n",
       "15-19                 136              17.435897\n",
       "20-24                 365              46.794872\n",
       "25-29                 101              12.948718\n",
       "30-34                  73               9.358974\n",
       "40+                    47               6.025641"
      ],
      "text/html": "<div>\n<style scoped>\n    .dataframe tbody tr th:only-of-type {\n        vertical-align: middle;\n    }\n\n    .dataframe tbody tr th {\n        vertical-align: top;\n    }\n\n    .dataframe thead th {\n        text-align: right;\n    }\n</style>\n<table border=\"1\" class=\"dataframe\">\n  <thead>\n    <tr style=\"text-align: right;\">\n      <th></th>\n      <th>Total Count</th>\n      <th>Percentage of Players</th>\n    </tr>\n    <tr>\n      <th>Age Category</th>\n      <th></th>\n      <th></th>\n    </tr>\n  </thead>\n  <tbody>\n    <tr>\n      <th>&lt;10</th>\n      <td>23</td>\n      <td>2.948718</td>\n    </tr>\n    <tr>\n      <th>10-14</th>\n      <td>28</td>\n      <td>3.589744</td>\n    </tr>\n    <tr>\n      <th>15-19</th>\n      <td>136</td>\n      <td>17.435897</td>\n    </tr>\n    <tr>\n      <th>20-24</th>\n      <td>365</td>\n      <td>46.794872</td>\n    </tr>\n    <tr>\n      <th>25-29</th>\n      <td>101</td>\n      <td>12.948718</td>\n    </tr>\n    <tr>\n      <th>30-34</th>\n      <td>73</td>\n      <td>9.358974</td>\n    </tr>\n    <tr>\n      <th>40+</th>\n      <td>47</td>\n      <td>6.025641</td>\n    </tr>\n  </tbody>\n</table>\n</div>"
     },
     "metadata": {},
     "execution_count": 62
    }
   ],
   "source": [
    "age_demo_df['Percentage of Players'] = (age_demo_df['Total Count'] / len(purchase_data['Age']) * 100)\n",
    "age_demo_df"
   ]
  },
  {
   "cell_type": "code",
   "execution_count": 63,
   "metadata": {},
   "outputs": [
    {
     "output_type": "execute_result",
     "data": {
      "text/plain": [
       "              Total Count  Percentage of Players\n",
       "Age Category                                    \n",
       "<10                    23                   2.95\n",
       "10-14                  28                   3.59\n",
       "15-19                 136                  17.44\n",
       "20-24                 365                  46.79\n",
       "25-29                 101                  12.95\n",
       "30-34                  73                   9.36\n",
       "40+                    47                   6.03"
      ],
      "text/html": "<div>\n<style scoped>\n    .dataframe tbody tr th:only-of-type {\n        vertical-align: middle;\n    }\n\n    .dataframe tbody tr th {\n        vertical-align: top;\n    }\n\n    .dataframe thead th {\n        text-align: right;\n    }\n</style>\n<table border=\"1\" class=\"dataframe\">\n  <thead>\n    <tr style=\"text-align: right;\">\n      <th></th>\n      <th>Total Count</th>\n      <th>Percentage of Players</th>\n    </tr>\n    <tr>\n      <th>Age Category</th>\n      <th></th>\n      <th></th>\n    </tr>\n  </thead>\n  <tbody>\n    <tr>\n      <th>&lt;10</th>\n      <td>23</td>\n      <td>2.95</td>\n    </tr>\n    <tr>\n      <th>10-14</th>\n      <td>28</td>\n      <td>3.59</td>\n    </tr>\n    <tr>\n      <th>15-19</th>\n      <td>136</td>\n      <td>17.44</td>\n    </tr>\n    <tr>\n      <th>20-24</th>\n      <td>365</td>\n      <td>46.79</td>\n    </tr>\n    <tr>\n      <th>25-29</th>\n      <td>101</td>\n      <td>12.95</td>\n    </tr>\n    <tr>\n      <th>30-34</th>\n      <td>73</td>\n      <td>9.36</td>\n    </tr>\n    <tr>\n      <th>40+</th>\n      <td>47</td>\n      <td>6.03</td>\n    </tr>\n  </tbody>\n</table>\n</div>"
     },
     "metadata": {},
     "execution_count": 63
    }
   ],
   "source": [
    "age_demo_df = age_demo_df.round({'Percentage of Players': 2})\n",
    "age_demo_df\n"
   ]
  },
  {
   "cell_type": "markdown",
   "metadata": {},
   "source": [
    "## Purchasing Analysis (Age)"
   ]
  },
  {
   "cell_type": "markdown",
   "metadata": {},
   "source": [
    "* Bin the purchase_data data frame by age\n",
    "\n",
    "\n",
    "* Run basic calculations to obtain purchase count, avg. purchase price, avg. purchase total per person etc. in the table below\n",
    "\n",
    "\n",
    "* Create a summary data frame to hold the results\n",
    "\n",
    "\n",
    "* Optional: give the displayed data cleaner formatting\n",
    "\n",
    "\n",
    "* Display the summary data frame"
   ]
  },
  {
   "cell_type": "code",
   "execution_count": 9,
   "metadata": {},
   "outputs": [
    {
     "output_type": "execute_result",
     "data": {
      "text/plain": [
       "     Purchase ID             SN  Age  Gender  Item ID  \\\n",
       "0              0        Lisim78   20    Male      108   \n",
       "1              1    Lisovynya38   40    Male      143   \n",
       "2              2     Ithergue48   24    Male       92   \n",
       "3              3  Chamassasya86   24    Male      100   \n",
       "4              4      Iskosia90   23    Male      131   \n",
       "..           ...            ...  ...     ...      ...   \n",
       "775          775     Aethedru70   21  Female       60   \n",
       "776          776         Iral74   21    Male      164   \n",
       "777          777     Yathecal72   20    Male       67   \n",
       "778          778        Sisur91    7    Male       92   \n",
       "779          779      Ennrian78   24    Male       50   \n",
       "\n",
       "                                     Item Name  Price Age Category  \n",
       "0    Extraction, Quickblade Of Trembling Hands   3.53        20-24  \n",
       "1                            Frenzied Scimitar   1.56          40+  \n",
       "2                                 Final Critic   4.88        20-24  \n",
       "3                                  Blindscythe   3.27        20-24  \n",
       "4                                         Fury   1.44        20-24  \n",
       "..                                         ...    ...          ...  \n",
       "775                                       Wolf   3.54        20-24  \n",
       "776                           Exiled Doomblade   1.63        20-24  \n",
       "777      Celeste, Incarnation of the Corrupted   3.46        20-24  \n",
       "778                               Final Critic   4.19          <10  \n",
       "779                                       Dawn   4.60        20-24  \n",
       "\n",
       "[780 rows x 8 columns]"
      ],
      "text/html": "<div>\n<style scoped>\n    .dataframe tbody tr th:only-of-type {\n        vertical-align: middle;\n    }\n\n    .dataframe tbody tr th {\n        vertical-align: top;\n    }\n\n    .dataframe thead th {\n        text-align: right;\n    }\n</style>\n<table border=\"1\" class=\"dataframe\">\n  <thead>\n    <tr style=\"text-align: right;\">\n      <th></th>\n      <th>Purchase ID</th>\n      <th>SN</th>\n      <th>Age</th>\n      <th>Gender</th>\n      <th>Item ID</th>\n      <th>Item Name</th>\n      <th>Price</th>\n      <th>Age Category</th>\n    </tr>\n  </thead>\n  <tbody>\n    <tr>\n      <th>0</th>\n      <td>0</td>\n      <td>Lisim78</td>\n      <td>20</td>\n      <td>Male</td>\n      <td>108</td>\n      <td>Extraction, Quickblade Of Trembling Hands</td>\n      <td>3.53</td>\n      <td>20-24</td>\n    </tr>\n    <tr>\n      <th>1</th>\n      <td>1</td>\n      <td>Lisovynya38</td>\n      <td>40</td>\n      <td>Male</td>\n      <td>143</td>\n      <td>Frenzied Scimitar</td>\n      <td>1.56</td>\n      <td>40+</td>\n    </tr>\n    <tr>\n      <th>2</th>\n      <td>2</td>\n      <td>Ithergue48</td>\n      <td>24</td>\n      <td>Male</td>\n      <td>92</td>\n      <td>Final Critic</td>\n      <td>4.88</td>\n      <td>20-24</td>\n    </tr>\n    <tr>\n      <th>3</th>\n      <td>3</td>\n      <td>Chamassasya86</td>\n      <td>24</td>\n      <td>Male</td>\n      <td>100</td>\n      <td>Blindscythe</td>\n      <td>3.27</td>\n      <td>20-24</td>\n    </tr>\n    <tr>\n      <th>4</th>\n      <td>4</td>\n      <td>Iskosia90</td>\n      <td>23</td>\n      <td>Male</td>\n      <td>131</td>\n      <td>Fury</td>\n      <td>1.44</td>\n      <td>20-24</td>\n    </tr>\n    <tr>\n      <th>...</th>\n      <td>...</td>\n      <td>...</td>\n      <td>...</td>\n      <td>...</td>\n      <td>...</td>\n      <td>...</td>\n      <td>...</td>\n      <td>...</td>\n    </tr>\n    <tr>\n      <th>775</th>\n      <td>775</td>\n      <td>Aethedru70</td>\n      <td>21</td>\n      <td>Female</td>\n      <td>60</td>\n      <td>Wolf</td>\n      <td>3.54</td>\n      <td>20-24</td>\n    </tr>\n    <tr>\n      <th>776</th>\n      <td>776</td>\n      <td>Iral74</td>\n      <td>21</td>\n      <td>Male</td>\n      <td>164</td>\n      <td>Exiled Doomblade</td>\n      <td>1.63</td>\n      <td>20-24</td>\n    </tr>\n    <tr>\n      <th>777</th>\n      <td>777</td>\n      <td>Yathecal72</td>\n      <td>20</td>\n      <td>Male</td>\n      <td>67</td>\n      <td>Celeste, Incarnation of the Corrupted</td>\n      <td>3.46</td>\n      <td>20-24</td>\n    </tr>\n    <tr>\n      <th>778</th>\n      <td>778</td>\n      <td>Sisur91</td>\n      <td>7</td>\n      <td>Male</td>\n      <td>92</td>\n      <td>Final Critic</td>\n      <td>4.19</td>\n      <td>&lt;10</td>\n    </tr>\n    <tr>\n      <th>779</th>\n      <td>779</td>\n      <td>Ennrian78</td>\n      <td>24</td>\n      <td>Male</td>\n      <td>50</td>\n      <td>Dawn</td>\n      <td>4.60</td>\n      <td>20-24</td>\n    </tr>\n  </tbody>\n</table>\n<p>780 rows × 8 columns</p>\n</div>"
     },
     "metadata": {},
     "execution_count": 9
    }
   ],
   "source": [
    "purchase_data[\"Age Category\"] = pd.cut(purchase_data[\"Age\"], bins, labels=group_names, include_lowest=True)\n",
    "purchase_data"
   ]
  },
  {
   "cell_type": "code",
   "execution_count": 20,
   "metadata": {},
   "outputs": [
    {
     "output_type": "execute_result",
     "data": {
      "text/plain": [
       "              Purchase Count\n",
       "Age Category                \n",
       "<10                       23\n",
       "10-14                     28\n",
       "15-19                    136\n",
       "20-24                    365\n",
       "25-29                    101\n",
       "30-34                     73\n",
       "40+                       47"
      ],
      "text/html": "<div>\n<style scoped>\n    .dataframe tbody tr th:only-of-type {\n        vertical-align: middle;\n    }\n\n    .dataframe tbody tr th {\n        vertical-align: top;\n    }\n\n    .dataframe thead th {\n        text-align: right;\n    }\n</style>\n<table border=\"1\" class=\"dataframe\">\n  <thead>\n    <tr style=\"text-align: right;\">\n      <th></th>\n      <th>Purchase Count</th>\n    </tr>\n    <tr>\n      <th>Age Category</th>\n      <th></th>\n    </tr>\n  </thead>\n  <tbody>\n    <tr>\n      <th>&lt;10</th>\n      <td>23</td>\n    </tr>\n    <tr>\n      <th>10-14</th>\n      <td>28</td>\n    </tr>\n    <tr>\n      <th>15-19</th>\n      <td>136</td>\n    </tr>\n    <tr>\n      <th>20-24</th>\n      <td>365</td>\n    </tr>\n    <tr>\n      <th>25-29</th>\n      <td>101</td>\n    </tr>\n    <tr>\n      <th>30-34</th>\n      <td>73</td>\n    </tr>\n    <tr>\n      <th>40+</th>\n      <td>47</td>\n    </tr>\n  </tbody>\n</table>\n</div>"
     },
     "metadata": {},
     "execution_count": 20
    }
   ],
   "source": [
    "purchase_age_df = purchase_data[['Age Category', 'Purchase ID']]\n",
    "purchase_age_df = purchase_age_df.groupby('Age Category').count()\n",
    "purchase_age_df = purchase_age_df.rename(columns={\"Purchase ID\": \"Purchase Count\"})\n",
    "purchase_age_df"
   ]
  },
  {
   "cell_type": "code",
   "execution_count": 21,
   "metadata": {},
   "outputs": [
    {
     "output_type": "execute_result",
     "data": {
      "text/plain": [
       "              Average Price ($)\n",
       "Age Category                   \n",
       "<10                        3.35\n",
       "10-14                      2.96\n",
       "15-19                      3.04\n",
       "20-24                      3.05\n",
       "25-29                      2.90\n",
       "30-34                      2.93\n",
       "40+                        3.50"
      ],
      "text/html": "<div>\n<style scoped>\n    .dataframe tbody tr th:only-of-type {\n        vertical-align: middle;\n    }\n\n    .dataframe tbody tr th {\n        vertical-align: top;\n    }\n\n    .dataframe thead th {\n        text-align: right;\n    }\n</style>\n<table border=\"1\" class=\"dataframe\">\n  <thead>\n    <tr style=\"text-align: right;\">\n      <th></th>\n      <th>Average Price ($)</th>\n    </tr>\n    <tr>\n      <th>Age Category</th>\n      <th></th>\n    </tr>\n  </thead>\n  <tbody>\n    <tr>\n      <th>&lt;10</th>\n      <td>3.35</td>\n    </tr>\n    <tr>\n      <th>10-14</th>\n      <td>2.96</td>\n    </tr>\n    <tr>\n      <th>15-19</th>\n      <td>3.04</td>\n    </tr>\n    <tr>\n      <th>20-24</th>\n      <td>3.05</td>\n    </tr>\n    <tr>\n      <th>25-29</th>\n      <td>2.90</td>\n    </tr>\n    <tr>\n      <th>30-34</th>\n      <td>2.93</td>\n    </tr>\n    <tr>\n      <th>40+</th>\n      <td>3.50</td>\n    </tr>\n  </tbody>\n</table>\n</div>"
     },
     "metadata": {},
     "execution_count": 21
    }
   ],
   "source": [
    "avg_purchase_age_df = purchase_data[['Age Category', 'Price']]\n",
    "avg_purchase_age_df = avg_purchase_age_df.groupby('Age Category').mean()\n",
    "avg_purchase_age_df = avg_purchase_age_df.rename(columns={\"Price\": \"Average Price ($)\"})\n",
    "avg_purchase_age_df = avg_purchase_age_df.round({'Average Price ($)': 2})\n",
    "avg_purchase_age_df"
   ]
  },
  {
   "cell_type": "code",
   "execution_count": 23,
   "metadata": {},
   "outputs": [
    {
     "output_type": "execute_result",
     "data": {
      "text/plain": [
       "              Total Purchase Price ($)\n",
       "Age Category                          \n",
       "<10                              77.13\n",
       "10-14                            82.78\n",
       "15-19                           412.89\n",
       "20-24                          1114.06\n",
       "25-29                           293.00\n",
       "30-34                           214.00\n",
       "40+                             164.38"
      ],
      "text/html": "<div>\n<style scoped>\n    .dataframe tbody tr th:only-of-type {\n        vertical-align: middle;\n    }\n\n    .dataframe tbody tr th {\n        vertical-align: top;\n    }\n\n    .dataframe thead th {\n        text-align: right;\n    }\n</style>\n<table border=\"1\" class=\"dataframe\">\n  <thead>\n    <tr style=\"text-align: right;\">\n      <th></th>\n      <th>Total Purchase Price ($)</th>\n    </tr>\n    <tr>\n      <th>Age Category</th>\n      <th></th>\n    </tr>\n  </thead>\n  <tbody>\n    <tr>\n      <th>&lt;10</th>\n      <td>77.13</td>\n    </tr>\n    <tr>\n      <th>10-14</th>\n      <td>82.78</td>\n    </tr>\n    <tr>\n      <th>15-19</th>\n      <td>412.89</td>\n    </tr>\n    <tr>\n      <th>20-24</th>\n      <td>1114.06</td>\n    </tr>\n    <tr>\n      <th>25-29</th>\n      <td>293.00</td>\n    </tr>\n    <tr>\n      <th>30-34</th>\n      <td>214.00</td>\n    </tr>\n    <tr>\n      <th>40+</th>\n      <td>164.38</td>\n    </tr>\n  </tbody>\n</table>\n</div>"
     },
     "metadata": {},
     "execution_count": 23
    }
   ],
   "source": [
    "total_purchase_age_df = purchase_data[['Age Category', 'Price']]\n",
    "total_purchase_age_df = total_purchase_age_df.groupby('Age Category').sum()\n",
    "total_purchase_age_df = total_purchase_age_df.rename(columns={\"Price\": \"Total Purchase Price ($)\"})\n",
    "total_purchase_age_df = total_purchase_age_df.round({'Total Purchase Price ($)': 2})\n",
    "total_purchase_age_df"
   ]
  },
  {
   "cell_type": "code",
   "execution_count": null,
   "metadata": {},
   "outputs": [],
   "source": []
  },
  {
   "cell_type": "code",
   "execution_count": 27,
   "metadata": {},
   "outputs": [
    {
     "output_type": "execute_result",
     "data": {
      "text/plain": [
       "              Purchase Count  Average Price ($)  Total Purchase Price ($)\n",
       "Age Category                                                             \n",
       "<10                       23               3.35                     77.13\n",
       "10-14                     28               2.96                     82.78\n",
       "15-19                    136               3.04                    412.89\n",
       "20-24                    365               3.05                   1114.06\n",
       "25-29                    101               2.90                    293.00\n",
       "30-34                     73               2.93                    214.00\n",
       "40+                       47               3.50                    164.38"
      ],
      "text/html": "<div>\n<style scoped>\n    .dataframe tbody tr th:only-of-type {\n        vertical-align: middle;\n    }\n\n    .dataframe tbody tr th {\n        vertical-align: top;\n    }\n\n    .dataframe thead th {\n        text-align: right;\n    }\n</style>\n<table border=\"1\" class=\"dataframe\">\n  <thead>\n    <tr style=\"text-align: right;\">\n      <th></th>\n      <th>Purchase Count</th>\n      <th>Average Price ($)</th>\n      <th>Total Purchase Price ($)</th>\n    </tr>\n    <tr>\n      <th>Age Category</th>\n      <th></th>\n      <th></th>\n      <th></th>\n    </tr>\n  </thead>\n  <tbody>\n    <tr>\n      <th>&lt;10</th>\n      <td>23</td>\n      <td>3.35</td>\n      <td>77.13</td>\n    </tr>\n    <tr>\n      <th>10-14</th>\n      <td>28</td>\n      <td>2.96</td>\n      <td>82.78</td>\n    </tr>\n    <tr>\n      <th>15-19</th>\n      <td>136</td>\n      <td>3.04</td>\n      <td>412.89</td>\n    </tr>\n    <tr>\n      <th>20-24</th>\n      <td>365</td>\n      <td>3.05</td>\n      <td>1114.06</td>\n    </tr>\n    <tr>\n      <th>25-29</th>\n      <td>101</td>\n      <td>2.90</td>\n      <td>293.00</td>\n    </tr>\n    <tr>\n      <th>30-34</th>\n      <td>73</td>\n      <td>2.93</td>\n      <td>214.00</td>\n    </tr>\n    <tr>\n      <th>40+</th>\n      <td>47</td>\n      <td>3.50</td>\n      <td>164.38</td>\n    </tr>\n  </tbody>\n</table>\n</div>"
     },
     "metadata": {},
     "execution_count": 27
    }
   ],
   "source": [
    "combined_df = pd.concat([purchase_age_df, avg_purchase_age_df, total_purchase_age_df], axis=1).reindex(purchase_age_df.index)\n",
    "combined_df\n"
   ]
  },
  {
   "cell_type": "code",
   "execution_count": 36,
   "metadata": {},
   "outputs": [
    {
     "output_type": "execute_result",
     "data": {
      "text/plain": [
       "              Purchase Count  Average Price ($)  Total Purchase Price ($)  \\\n",
       "Age Category                                                                \n",
       "<10                       23               3.35                     77.13   \n",
       "10-14                     28               2.96                     82.78   \n",
       "15-19                    136               3.04                    412.89   \n",
       "20-24                    365               3.05                   1114.06   \n",
       "25-29                    101               2.90                    293.00   \n",
       "30-34                     73               2.93                    214.00   \n",
       "40+                       47               3.50                    164.38   \n",
       "\n",
       "              Avg Total Purchase per Person ($)  \n",
       "Age Category                                     \n",
       "<10                                       14.65  \n",
       "10-14                                     12.03  \n",
       "15-19                                      2.48  \n",
       "20-24                                      0.92  \n",
       "25-29                                      3.34  \n",
       "30-34                                      4.61  \n",
       "40+                                        7.17  "
      ],
      "text/html": "<div>\n<style scoped>\n    .dataframe tbody tr th:only-of-type {\n        vertical-align: middle;\n    }\n\n    .dataframe tbody tr th {\n        vertical-align: top;\n    }\n\n    .dataframe thead th {\n        text-align: right;\n    }\n</style>\n<table border=\"1\" class=\"dataframe\">\n  <thead>\n    <tr style=\"text-align: right;\">\n      <th></th>\n      <th>Purchase Count</th>\n      <th>Average Price ($)</th>\n      <th>Total Purchase Price ($)</th>\n      <th>Avg Total Purchase per Person ($)</th>\n    </tr>\n    <tr>\n      <th>Age Category</th>\n      <th></th>\n      <th></th>\n      <th></th>\n      <th></th>\n    </tr>\n  </thead>\n  <tbody>\n    <tr>\n      <th>&lt;10</th>\n      <td>23</td>\n      <td>3.35</td>\n      <td>77.13</td>\n      <td>14.65</td>\n    </tr>\n    <tr>\n      <th>10-14</th>\n      <td>28</td>\n      <td>2.96</td>\n      <td>82.78</td>\n      <td>12.03</td>\n    </tr>\n    <tr>\n      <th>15-19</th>\n      <td>136</td>\n      <td>3.04</td>\n      <td>412.89</td>\n      <td>2.48</td>\n    </tr>\n    <tr>\n      <th>20-24</th>\n      <td>365</td>\n      <td>3.05</td>\n      <td>1114.06</td>\n      <td>0.92</td>\n    </tr>\n    <tr>\n      <th>25-29</th>\n      <td>101</td>\n      <td>2.90</td>\n      <td>293.00</td>\n      <td>3.34</td>\n    </tr>\n    <tr>\n      <th>30-34</th>\n      <td>73</td>\n      <td>2.93</td>\n      <td>214.00</td>\n      <td>4.61</td>\n    </tr>\n    <tr>\n      <th>40+</th>\n      <td>47</td>\n      <td>3.50</td>\n      <td>164.38</td>\n      <td>7.17</td>\n    </tr>\n  </tbody>\n</table>\n</div>"
     },
     "metadata": {},
     "execution_count": 36
    }
   ],
   "source": [
    "combined_df['Avg Total Purchase per Person ($)'] = (combined_df['Total Purchase Price ($)'].mean() / combined_df['Purchase Count'])\n",
    "combined_df = combined_df.round({'Avg Total Purchase per Person ($)': 2})\n",
    "combined_df\n"
   ]
  },
  {
   "cell_type": "code",
   "execution_count": 7,
   "metadata": {},
   "outputs": [
    {
     "data": {
      "text/html": [
       "<div>\n",
       "<style scoped>\n",
       "    .dataframe tbody tr th:only-of-type {\n",
       "        vertical-align: middle;\n",
       "    }\n",
       "\n",
       "    .dataframe tbody tr th {\n",
       "        vertical-align: top;\n",
       "    }\n",
       "\n",
       "    .dataframe thead th {\n",
       "        text-align: right;\n",
       "    }\n",
       "</style>\n",
       "<table border=\"1\" class=\"dataframe\">\n",
       "  <thead>\n",
       "    <tr style=\"text-align: right;\">\n",
       "      <th></th>\n",
       "      <th>Purchase Count</th>\n",
       "      <th>Average Purchase Price</th>\n",
       "      <th>Total Purchase Value</th>\n",
       "      <th>Avg Total Purchase per Person</th>\n",
       "    </tr>\n",
       "    <tr>\n",
       "      <th>Age Ranges</th>\n",
       "      <th></th>\n",
       "      <th></th>\n",
       "      <th></th>\n",
       "      <th></th>\n",
       "    </tr>\n",
       "  </thead>\n",
       "  <tbody>\n",
       "    <tr>\n",
       "      <th>&lt;10</th>\n",
       "      <td>23</td>\n",
       "      <td>$3.35</td>\n",
       "      <td>$77.13</td>\n",
       "      <td>$4.54</td>\n",
       "    </tr>\n",
       "    <tr>\n",
       "      <th>10-14</th>\n",
       "      <td>28</td>\n",
       "      <td>$2.96</td>\n",
       "      <td>$82.78</td>\n",
       "      <td>$3.76</td>\n",
       "    </tr>\n",
       "    <tr>\n",
       "      <th>15-19</th>\n",
       "      <td>136</td>\n",
       "      <td>$3.04</td>\n",
       "      <td>$412.89</td>\n",
       "      <td>$3.86</td>\n",
       "    </tr>\n",
       "    <tr>\n",
       "      <th>20-24</th>\n",
       "      <td>365</td>\n",
       "      <td>$3.05</td>\n",
       "      <td>$1,114.06</td>\n",
       "      <td>$4.32</td>\n",
       "    </tr>\n",
       "    <tr>\n",
       "      <th>25-29</th>\n",
       "      <td>101</td>\n",
       "      <td>$2.90</td>\n",
       "      <td>$293.00</td>\n",
       "      <td>$3.81</td>\n",
       "    </tr>\n",
       "    <tr>\n",
       "      <th>30-34</th>\n",
       "      <td>73</td>\n",
       "      <td>$2.93</td>\n",
       "      <td>$214.00</td>\n",
       "      <td>$4.12</td>\n",
       "    </tr>\n",
       "    <tr>\n",
       "      <th>35-39</th>\n",
       "      <td>41</td>\n",
       "      <td>$3.60</td>\n",
       "      <td>$147.67</td>\n",
       "      <td>$4.76</td>\n",
       "    </tr>\n",
       "    <tr>\n",
       "      <th>40+</th>\n",
       "      <td>13</td>\n",
       "      <td>$2.94</td>\n",
       "      <td>$38.24</td>\n",
       "      <td>$3.19</td>\n",
       "    </tr>\n",
       "  </tbody>\n",
       "</table>\n",
       "</div>"
      ],
      "text/plain": [
       "           Purchase Count Average Purchase Price Total Purchase Value  \\\n",
       "Age Ranges                                                              \n",
       "<10                    23                  $3.35               $77.13   \n",
       "10-14                  28                  $2.96               $82.78   \n",
       "15-19                 136                  $3.04              $412.89   \n",
       "20-24                 365                  $3.05            $1,114.06   \n",
       "25-29                 101                  $2.90              $293.00   \n",
       "30-34                  73                  $2.93              $214.00   \n",
       "35-39                  41                  $3.60              $147.67   \n",
       "40+                    13                  $2.94               $38.24   \n",
       "\n",
       "           Avg Total Purchase per Person  \n",
       "Age Ranges                                \n",
       "<10                                $4.54  \n",
       "10-14                              $3.76  \n",
       "15-19                              $3.86  \n",
       "20-24                              $4.32  \n",
       "25-29                              $3.81  \n",
       "30-34                              $4.12  \n",
       "35-39                              $4.76  \n",
       "40+                                $3.19  "
      ]
     },
     "execution_count": 7,
     "metadata": {},
     "output_type": "execute_result"
    }
   ],
   "source": []
  },
  {
   "cell_type": "markdown",
   "metadata": {},
   "source": [
    "## Top Spenders"
   ]
  },
  {
   "cell_type": "markdown",
   "metadata": {},
   "source": [
    "* Run basic calculations to obtain the results in the table below\n",
    "\n",
    "\n",
    "* Create a summary data frame to hold the results\n",
    "\n",
    "\n",
    "* Sort the total purchase value column in descending order\n",
    "\n",
    "\n",
    "* Optional: give the displayed data cleaner formatting\n",
    "\n",
    "\n",
    "* Display a preview of the summary data frame\n",
    "\n"
   ]
  },
  {
   "cell_type": "code",
   "execution_count": 62,
   "metadata": {},
   "outputs": [
    {
     "output_type": "execute_result",
     "data": {
      "text/plain": [
       "                SN  Price\n",
       "0          Lisim78   3.53\n",
       "1      Lisovynya38   1.56\n",
       "2       Ithergue48   4.88\n",
       "3    Chamassasya86   3.27\n",
       "4        Iskosia90   1.44\n",
       "..             ...    ...\n",
       "775     Aethedru70   3.54\n",
       "776         Iral74   1.63\n",
       "777     Yathecal72   3.46\n",
       "778        Sisur91   4.19\n",
       "779      Ennrian78   4.60\n",
       "\n",
       "[780 rows x 2 columns]"
      ],
      "text/html": "<div>\n<style scoped>\n    .dataframe tbody tr th:only-of-type {\n        vertical-align: middle;\n    }\n\n    .dataframe tbody tr th {\n        vertical-align: top;\n    }\n\n    .dataframe thead th {\n        text-align: right;\n    }\n</style>\n<table border=\"1\" class=\"dataframe\">\n  <thead>\n    <tr style=\"text-align: right;\">\n      <th></th>\n      <th>SN</th>\n      <th>Price</th>\n    </tr>\n  </thead>\n  <tbody>\n    <tr>\n      <th>0</th>\n      <td>Lisim78</td>\n      <td>3.53</td>\n    </tr>\n    <tr>\n      <th>1</th>\n      <td>Lisovynya38</td>\n      <td>1.56</td>\n    </tr>\n    <tr>\n      <th>2</th>\n      <td>Ithergue48</td>\n      <td>4.88</td>\n    </tr>\n    <tr>\n      <th>3</th>\n      <td>Chamassasya86</td>\n      <td>3.27</td>\n    </tr>\n    <tr>\n      <th>4</th>\n      <td>Iskosia90</td>\n      <td>1.44</td>\n    </tr>\n    <tr>\n      <th>...</th>\n      <td>...</td>\n      <td>...</td>\n    </tr>\n    <tr>\n      <th>775</th>\n      <td>Aethedru70</td>\n      <td>3.54</td>\n    </tr>\n    <tr>\n      <th>776</th>\n      <td>Iral74</td>\n      <td>1.63</td>\n    </tr>\n    <tr>\n      <th>777</th>\n      <td>Yathecal72</td>\n      <td>3.46</td>\n    </tr>\n    <tr>\n      <th>778</th>\n      <td>Sisur91</td>\n      <td>4.19</td>\n    </tr>\n    <tr>\n      <th>779</th>\n      <td>Ennrian78</td>\n      <td>4.60</td>\n    </tr>\n  </tbody>\n</table>\n<p>780 rows × 2 columns</p>\n</div>"
     },
     "metadata": {},
     "execution_count": 62
    }
   ],
   "source": [
    "top_spenders = purchase_data[['SN', 'Price']]\n",
    "top_spenders"
   ]
  },
  {
   "cell_type": "code",
   "execution_count": 65,
   "metadata": {},
   "outputs": [
    {
     "output_type": "execute_result",
     "data": {
      "text/plain": [
       "               Total Purchase Value ($)\n",
       "SN                                     \n",
       "Adairialis76                       2.28\n",
       "Adastirin33                        4.48\n",
       "Aeda94                             4.91\n",
       "Aela59                             4.32\n",
       "Aelaria33                          1.79\n",
       "...                                 ...\n",
       "Yathecal82                         6.22\n",
       "Yathedeu43                         6.02\n",
       "Yoishirrala98                      4.58\n",
       "Zhisrisu83                         7.89\n",
       "Zontibe81                          8.03\n",
       "\n",
       "[576 rows x 1 columns]"
      ],
      "text/html": "<div>\n<style scoped>\n    .dataframe tbody tr th:only-of-type {\n        vertical-align: middle;\n    }\n\n    .dataframe tbody tr th {\n        vertical-align: top;\n    }\n\n    .dataframe thead th {\n        text-align: right;\n    }\n</style>\n<table border=\"1\" class=\"dataframe\">\n  <thead>\n    <tr style=\"text-align: right;\">\n      <th></th>\n      <th>Total Purchase Value ($)</th>\n    </tr>\n    <tr>\n      <th>SN</th>\n      <th></th>\n    </tr>\n  </thead>\n  <tbody>\n    <tr>\n      <th>Adairialis76</th>\n      <td>2.28</td>\n    </tr>\n    <tr>\n      <th>Adastirin33</th>\n      <td>4.48</td>\n    </tr>\n    <tr>\n      <th>Aeda94</th>\n      <td>4.91</td>\n    </tr>\n    <tr>\n      <th>Aela59</th>\n      <td>4.32</td>\n    </tr>\n    <tr>\n      <th>Aelaria33</th>\n      <td>1.79</td>\n    </tr>\n    <tr>\n      <th>...</th>\n      <td>...</td>\n    </tr>\n    <tr>\n      <th>Yathecal82</th>\n      <td>6.22</td>\n    </tr>\n    <tr>\n      <th>Yathedeu43</th>\n      <td>6.02</td>\n    </tr>\n    <tr>\n      <th>Yoishirrala98</th>\n      <td>4.58</td>\n    </tr>\n    <tr>\n      <th>Zhisrisu83</th>\n      <td>7.89</td>\n    </tr>\n    <tr>\n      <th>Zontibe81</th>\n      <td>8.03</td>\n    </tr>\n  </tbody>\n</table>\n<p>576 rows × 1 columns</p>\n</div>"
     },
     "metadata": {},
     "execution_count": 65
    }
   ],
   "source": [
    "top_spenders = top_spenders.groupby('SN').sum()\n",
    "top_spenders = top_spenders.rename(columns={\"Price\": \"Total Purchase Value ($)\"})\n",
    "\n",
    "top_spenders\n"
   ]
  },
  {
   "cell_type": "code",
   "execution_count": 64,
   "metadata": {},
   "outputs": [
    {
     "output_type": "execute_result",
     "data": {
      "text/plain": [
       "              Purchase Count\n",
       "SN                          \n",
       "Lisosia93                  5\n",
       "Iral74                     4\n",
       "Idastidru52                4\n",
       "Asur53                     3\n",
       "Inguron55                  3\n",
       "...                      ...\n",
       "Hala31                     1\n",
       "Haisurra41                 1\n",
       "Hailaphos89                1\n",
       "Haestyphos66               1\n",
       "Iskosian40                 1\n",
       "\n",
       "[576 rows x 1 columns]"
      ],
      "text/html": "<div>\n<style scoped>\n    .dataframe tbody tr th:only-of-type {\n        vertical-align: middle;\n    }\n\n    .dataframe tbody tr th {\n        vertical-align: top;\n    }\n\n    .dataframe thead th {\n        text-align: right;\n    }\n</style>\n<table border=\"1\" class=\"dataframe\">\n  <thead>\n    <tr style=\"text-align: right;\">\n      <th></th>\n      <th>Purchase Count</th>\n    </tr>\n    <tr>\n      <th>SN</th>\n      <th></th>\n    </tr>\n  </thead>\n  <tbody>\n    <tr>\n      <th>Lisosia93</th>\n      <td>5</td>\n    </tr>\n    <tr>\n      <th>Iral74</th>\n      <td>4</td>\n    </tr>\n    <tr>\n      <th>Idastidru52</th>\n      <td>4</td>\n    </tr>\n    <tr>\n      <th>Asur53</th>\n      <td>3</td>\n    </tr>\n    <tr>\n      <th>Inguron55</th>\n      <td>3</td>\n    </tr>\n    <tr>\n      <th>...</th>\n      <td>...</td>\n    </tr>\n    <tr>\n      <th>Hala31</th>\n      <td>1</td>\n    </tr>\n    <tr>\n      <th>Haisurra41</th>\n      <td>1</td>\n    </tr>\n    <tr>\n      <th>Hailaphos89</th>\n      <td>1</td>\n    </tr>\n    <tr>\n      <th>Haestyphos66</th>\n      <td>1</td>\n    </tr>\n    <tr>\n      <th>Iskosian40</th>\n      <td>1</td>\n    </tr>\n  </tbody>\n</table>\n<p>576 rows × 1 columns</p>\n</div>"
     },
     "metadata": {},
     "execution_count": 64
    }
   ],
   "source": [
    "purchase_count_spenders = purchase_data[['SN', 'Purchase ID']]\n",
    "purchase_count_spenders = purchase_count_spenders.groupby('SN').count()\n",
    "purchase_count_spenders = purchase_count_spenders.sort_values(by='Purchase ID', ascending=False)\n",
    "purchase_count_spenders = purchase_count_spenders.rename(columns={\"Purchase ID\": \"Purchase Count\"})\n",
    "\n",
    "purchase_count_spenders"
   ]
  },
  {
   "cell_type": "code",
   "execution_count": 67,
   "metadata": {},
   "outputs": [
    {
     "output_type": "execute_result",
     "data": {
      "text/plain": [
       "               Average Purchase Price ($)\n",
       "SN                                       \n",
       "Adairialis76                         2.28\n",
       "Adastirin33                          4.48\n",
       "Aeda94                               4.91\n",
       "Aela59                               4.32\n",
       "Aelaria33                            1.79\n",
       "...                                   ...\n",
       "Yathecal82                           2.07\n",
       "Yathedeu43                           3.01\n",
       "Yoishirrala98                        4.58\n",
       "Zhisrisu83                           3.94\n",
       "Zontibe81                            2.68\n",
       "\n",
       "[576 rows x 1 columns]"
      ],
      "text/html": "<div>\n<style scoped>\n    .dataframe tbody tr th:only-of-type {\n        vertical-align: middle;\n    }\n\n    .dataframe tbody tr th {\n        vertical-align: top;\n    }\n\n    .dataframe thead th {\n        text-align: right;\n    }\n</style>\n<table border=\"1\" class=\"dataframe\">\n  <thead>\n    <tr style=\"text-align: right;\">\n      <th></th>\n      <th>Average Purchase Price ($)</th>\n    </tr>\n    <tr>\n      <th>SN</th>\n      <th></th>\n    </tr>\n  </thead>\n  <tbody>\n    <tr>\n      <th>Adairialis76</th>\n      <td>2.28</td>\n    </tr>\n    <tr>\n      <th>Adastirin33</th>\n      <td>4.48</td>\n    </tr>\n    <tr>\n      <th>Aeda94</th>\n      <td>4.91</td>\n    </tr>\n    <tr>\n      <th>Aela59</th>\n      <td>4.32</td>\n    </tr>\n    <tr>\n      <th>Aelaria33</th>\n      <td>1.79</td>\n    </tr>\n    <tr>\n      <th>...</th>\n      <td>...</td>\n    </tr>\n    <tr>\n      <th>Yathecal82</th>\n      <td>2.07</td>\n    </tr>\n    <tr>\n      <th>Yathedeu43</th>\n      <td>3.01</td>\n    </tr>\n    <tr>\n      <th>Yoishirrala98</th>\n      <td>4.58</td>\n    </tr>\n    <tr>\n      <th>Zhisrisu83</th>\n      <td>3.94</td>\n    </tr>\n    <tr>\n      <th>Zontibe81</th>\n      <td>2.68</td>\n    </tr>\n  </tbody>\n</table>\n<p>576 rows × 1 columns</p>\n</div>"
     },
     "metadata": {},
     "execution_count": 67
    }
   ],
   "source": [
    "avg_purchase_spenders = purchase_data[['SN', 'Price']]\n",
    "avg_purchase_spenders = avg_purchase_spenders.groupby('SN').mean()\n",
    "avg_purchase_spenders = avg_purchase_spenders.rename(columns={\"Price\": \"Average Purchase Price ($)\"})\n",
    "avg_purchase_spenders = avg_purchase_spenders.round({'Average Purchase Price ($)': 2})\n",
    "\n",
    "avg_purchase_spenders\n"
   ]
  },
  {
   "cell_type": "code",
   "execution_count": 68,
   "metadata": {},
   "outputs": [
    {
     "output_type": "execute_result",
     "data": {
      "text/plain": [
       "               Purchase Count  Average Purchase Price ($)  \\\n",
       "SN                                                          \n",
       "Adairialis76                1                        2.28   \n",
       "Adastirin33                 1                        4.48   \n",
       "Aeda94                      1                        4.91   \n",
       "Aela59                      1                        4.32   \n",
       "Aelaria33                   1                        1.79   \n",
       "...                       ...                         ...   \n",
       "Yathecal82                  3                        2.07   \n",
       "Yathedeu43                  2                        3.01   \n",
       "Yoishirrala98               1                        4.58   \n",
       "Zhisrisu83                  2                        3.94   \n",
       "Zontibe81                   3                        2.68   \n",
       "\n",
       "               Total Purchase Value ($)  \n",
       "SN                                       \n",
       "Adairialis76                       2.28  \n",
       "Adastirin33                        4.48  \n",
       "Aeda94                             4.91  \n",
       "Aela59                             4.32  \n",
       "Aelaria33                          1.79  \n",
       "...                                 ...  \n",
       "Yathecal82                         6.22  \n",
       "Yathedeu43                         6.02  \n",
       "Yoishirrala98                      4.58  \n",
       "Zhisrisu83                         7.89  \n",
       "Zontibe81                          8.03  \n",
       "\n",
       "[576 rows x 3 columns]"
      ],
      "text/html": "<div>\n<style scoped>\n    .dataframe tbody tr th:only-of-type {\n        vertical-align: middle;\n    }\n\n    .dataframe tbody tr th {\n        vertical-align: top;\n    }\n\n    .dataframe thead th {\n        text-align: right;\n    }\n</style>\n<table border=\"1\" class=\"dataframe\">\n  <thead>\n    <tr style=\"text-align: right;\">\n      <th></th>\n      <th>Purchase Count</th>\n      <th>Average Purchase Price ($)</th>\n      <th>Total Purchase Value ($)</th>\n    </tr>\n    <tr>\n      <th>SN</th>\n      <th></th>\n      <th></th>\n      <th></th>\n    </tr>\n  </thead>\n  <tbody>\n    <tr>\n      <th>Adairialis76</th>\n      <td>1</td>\n      <td>2.28</td>\n      <td>2.28</td>\n    </tr>\n    <tr>\n      <th>Adastirin33</th>\n      <td>1</td>\n      <td>4.48</td>\n      <td>4.48</td>\n    </tr>\n    <tr>\n      <th>Aeda94</th>\n      <td>1</td>\n      <td>4.91</td>\n      <td>4.91</td>\n    </tr>\n    <tr>\n      <th>Aela59</th>\n      <td>1</td>\n      <td>4.32</td>\n      <td>4.32</td>\n    </tr>\n    <tr>\n      <th>Aelaria33</th>\n      <td>1</td>\n      <td>1.79</td>\n      <td>1.79</td>\n    </tr>\n    <tr>\n      <th>...</th>\n      <td>...</td>\n      <td>...</td>\n      <td>...</td>\n    </tr>\n    <tr>\n      <th>Yathecal82</th>\n      <td>3</td>\n      <td>2.07</td>\n      <td>6.22</td>\n    </tr>\n    <tr>\n      <th>Yathedeu43</th>\n      <td>2</td>\n      <td>3.01</td>\n      <td>6.02</td>\n    </tr>\n    <tr>\n      <th>Yoishirrala98</th>\n      <td>1</td>\n      <td>4.58</td>\n      <td>4.58</td>\n    </tr>\n    <tr>\n      <th>Zhisrisu83</th>\n      <td>2</td>\n      <td>3.94</td>\n      <td>7.89</td>\n    </tr>\n    <tr>\n      <th>Zontibe81</th>\n      <td>3</td>\n      <td>2.68</td>\n      <td>8.03</td>\n    </tr>\n  </tbody>\n</table>\n<p>576 rows × 3 columns</p>\n</div>"
     },
     "metadata": {},
     "execution_count": 68
    }
   ],
   "source": [
    "combined_top_spenders = pd.concat([purchase_count_spenders, avg_purchase_spenders, top_spenders], axis=1).reindex(top_spenders.index)\n",
    "combined_top_spenders\n"
   ]
  },
  {
   "cell_type": "code",
   "execution_count": 71,
   "metadata": {},
   "outputs": [
    {
     "output_type": "execute_result",
     "data": {
      "text/plain": [
       "             Purchase Count  Average Purchase Price ($)  \\\n",
       "SN                                                        \n",
       "Lisosia93                 5                        3.79   \n",
       "Idastidru52               4                        3.86   \n",
       "Chamjask73                3                        4.61   \n",
       "Iral74                    4                        3.40   \n",
       "Iskadarya95               3                        4.37   \n",
       "...                     ...                         ...   \n",
       "Irilis75                  1                        1.02   \n",
       "Hala31                    1                        1.02   \n",
       "Aidai61                   1                        1.01   \n",
       "Chanirra79                1                        1.01   \n",
       "Alo38                     1                        1.00   \n",
       "\n",
       "             Total Purchase Value ($)  \n",
       "SN                                     \n",
       "Lisosia93                       18.96  \n",
       "Idastidru52                     15.45  \n",
       "Chamjask73                      13.83  \n",
       "Iral74                          13.62  \n",
       "Iskadarya95                     13.10  \n",
       "...                               ...  \n",
       "Irilis75                         1.02  \n",
       "Hala31                           1.02  \n",
       "Aidai61                          1.01  \n",
       "Chanirra79                       1.01  \n",
       "Alo38                            1.00  \n",
       "\n",
       "[576 rows x 3 columns]"
      ],
      "text/html": "<div>\n<style scoped>\n    .dataframe tbody tr th:only-of-type {\n        vertical-align: middle;\n    }\n\n    .dataframe tbody tr th {\n        vertical-align: top;\n    }\n\n    .dataframe thead th {\n        text-align: right;\n    }\n</style>\n<table border=\"1\" class=\"dataframe\">\n  <thead>\n    <tr style=\"text-align: right;\">\n      <th></th>\n      <th>Purchase Count</th>\n      <th>Average Purchase Price ($)</th>\n      <th>Total Purchase Value ($)</th>\n    </tr>\n    <tr>\n      <th>SN</th>\n      <th></th>\n      <th></th>\n      <th></th>\n    </tr>\n  </thead>\n  <tbody>\n    <tr>\n      <th>Lisosia93</th>\n      <td>5</td>\n      <td>3.79</td>\n      <td>18.96</td>\n    </tr>\n    <tr>\n      <th>Idastidru52</th>\n      <td>4</td>\n      <td>3.86</td>\n      <td>15.45</td>\n    </tr>\n    <tr>\n      <th>Chamjask73</th>\n      <td>3</td>\n      <td>4.61</td>\n      <td>13.83</td>\n    </tr>\n    <tr>\n      <th>Iral74</th>\n      <td>4</td>\n      <td>3.40</td>\n      <td>13.62</td>\n    </tr>\n    <tr>\n      <th>Iskadarya95</th>\n      <td>3</td>\n      <td>4.37</td>\n      <td>13.10</td>\n    </tr>\n    <tr>\n      <th>...</th>\n      <td>...</td>\n      <td>...</td>\n      <td>...</td>\n    </tr>\n    <tr>\n      <th>Irilis75</th>\n      <td>1</td>\n      <td>1.02</td>\n      <td>1.02</td>\n    </tr>\n    <tr>\n      <th>Hala31</th>\n      <td>1</td>\n      <td>1.02</td>\n      <td>1.02</td>\n    </tr>\n    <tr>\n      <th>Aidai61</th>\n      <td>1</td>\n      <td>1.01</td>\n      <td>1.01</td>\n    </tr>\n    <tr>\n      <th>Chanirra79</th>\n      <td>1</td>\n      <td>1.01</td>\n      <td>1.01</td>\n    </tr>\n    <tr>\n      <th>Alo38</th>\n      <td>1</td>\n      <td>1.00</td>\n      <td>1.00</td>\n    </tr>\n  </tbody>\n</table>\n<p>576 rows × 3 columns</p>\n</div>"
     },
     "metadata": {},
     "execution_count": 71
    }
   ],
   "source": [
    "combined_top_spenders = combined_top_spenders.sort_values(by='Total Purchase Value ($)', ascending=False)\n",
    "combined_top_spenders"
   ]
  },
  {
   "cell_type": "code",
   "execution_count": 72,
   "metadata": {},
   "outputs": [
    {
     "output_type": "execute_result",
     "data": {
      "text/plain": [
       "             Purchase Count  Average Purchase Price ($)  \\\n",
       "SN                                                        \n",
       "Lisosia93                 5                        3.79   \n",
       "Idastidru52               4                        3.86   \n",
       "Chamjask73                3                        4.61   \n",
       "Iral74                    4                        3.40   \n",
       "Iskadarya95               3                        4.37   \n",
       "\n",
       "             Total Purchase Value ($)  \n",
       "SN                                     \n",
       "Lisosia93                       18.96  \n",
       "Idastidru52                     15.45  \n",
       "Chamjask73                      13.83  \n",
       "Iral74                          13.62  \n",
       "Iskadarya95                     13.10  "
      ],
      "text/html": "<div>\n<style scoped>\n    .dataframe tbody tr th:only-of-type {\n        vertical-align: middle;\n    }\n\n    .dataframe tbody tr th {\n        vertical-align: top;\n    }\n\n    .dataframe thead th {\n        text-align: right;\n    }\n</style>\n<table border=\"1\" class=\"dataframe\">\n  <thead>\n    <tr style=\"text-align: right;\">\n      <th></th>\n      <th>Purchase Count</th>\n      <th>Average Purchase Price ($)</th>\n      <th>Total Purchase Value ($)</th>\n    </tr>\n    <tr>\n      <th>SN</th>\n      <th></th>\n      <th></th>\n      <th></th>\n    </tr>\n  </thead>\n  <tbody>\n    <tr>\n      <th>Lisosia93</th>\n      <td>5</td>\n      <td>3.79</td>\n      <td>18.96</td>\n    </tr>\n    <tr>\n      <th>Idastidru52</th>\n      <td>4</td>\n      <td>3.86</td>\n      <td>15.45</td>\n    </tr>\n    <tr>\n      <th>Chamjask73</th>\n      <td>3</td>\n      <td>4.61</td>\n      <td>13.83</td>\n    </tr>\n    <tr>\n      <th>Iral74</th>\n      <td>4</td>\n      <td>3.40</td>\n      <td>13.62</td>\n    </tr>\n    <tr>\n      <th>Iskadarya95</th>\n      <td>3</td>\n      <td>4.37</td>\n      <td>13.10</td>\n    </tr>\n  </tbody>\n</table>\n</div>"
     },
     "metadata": {},
     "execution_count": 72
    }
   ],
   "source": [
    "combined_top_spenders = combined_top_spenders.head(5)\n",
    "combined_top_spenders"
   ]
  },
  {
   "cell_type": "code",
   "execution_count": 8,
   "metadata": {},
   "outputs": [
    {
     "data": {
      "text/html": [
       "<div>\n",
       "<style scoped>\n",
       "    .dataframe tbody tr th:only-of-type {\n",
       "        vertical-align: middle;\n",
       "    }\n",
       "\n",
       "    .dataframe tbody tr th {\n",
       "        vertical-align: top;\n",
       "    }\n",
       "\n",
       "    .dataframe thead th {\n",
       "        text-align: right;\n",
       "    }\n",
       "</style>\n",
       "<table border=\"1\" class=\"dataframe\">\n",
       "  <thead>\n",
       "    <tr style=\"text-align: right;\">\n",
       "      <th></th>\n",
       "      <th>Purchase Count</th>\n",
       "      <th>Average Purchase Price</th>\n",
       "      <th>Total Purchase Value</th>\n",
       "    </tr>\n",
       "    <tr>\n",
       "      <th>SN</th>\n",
       "      <th></th>\n",
       "      <th></th>\n",
       "      <th></th>\n",
       "    </tr>\n",
       "  </thead>\n",
       "  <tbody>\n",
       "    <tr>\n",
       "      <th>Lisosia93</th>\n",
       "      <td>5</td>\n",
       "      <td>$3.79</td>\n",
       "      <td>$18.96</td>\n",
       "    </tr>\n",
       "    <tr>\n",
       "      <th>Idastidru52</th>\n",
       "      <td>4</td>\n",
       "      <td>$3.86</td>\n",
       "      <td>$15.45</td>\n",
       "    </tr>\n",
       "    <tr>\n",
       "      <th>Chamjask73</th>\n",
       "      <td>3</td>\n",
       "      <td>$4.61</td>\n",
       "      <td>$13.83</td>\n",
       "    </tr>\n",
       "    <tr>\n",
       "      <th>Iral74</th>\n",
       "      <td>4</td>\n",
       "      <td>$3.40</td>\n",
       "      <td>$13.62</td>\n",
       "    </tr>\n",
       "    <tr>\n",
       "      <th>Iskadarya95</th>\n",
       "      <td>3</td>\n",
       "      <td>$4.37</td>\n",
       "      <td>$13.10</td>\n",
       "    </tr>\n",
       "  </tbody>\n",
       "</table>\n",
       "</div>"
      ],
      "text/plain": [
       "             Purchase Count Average Purchase Price Total Purchase Value\n",
       "SN                                                                     \n",
       "Lisosia93                 5                  $3.79               $18.96\n",
       "Idastidru52               4                  $3.86               $15.45\n",
       "Chamjask73                3                  $4.61               $13.83\n",
       "Iral74                    4                  $3.40               $13.62\n",
       "Iskadarya95               3                  $4.37               $13.10"
      ]
     },
     "execution_count": 8,
     "metadata": {},
     "output_type": "execute_result"
    }
   ],
   "source": []
  },
  {
   "cell_type": "markdown",
   "metadata": {},
   "source": [
    "## Most Popular Items"
   ]
  },
  {
   "cell_type": "markdown",
   "metadata": {},
   "source": [
    "* Retrieve the Item ID, Item Name, and Item Price columns\n",
    "\n",
    "\n",
    "* Group by Item ID and Item Name. Perform calculations to obtain purchase count, average item price, and total purchase value\n",
    "\n",
    "\n",
    "* Create a summary data frame to hold the results\n",
    "\n",
    "\n",
    "* Sort the purchase count column in descending order\n",
    "\n",
    "\n",
    "* Optional: give the displayed data cleaner formatting\n",
    "\n",
    "\n",
    "* Display a preview of the summary data frame\n",
    "\n"
   ]
  },
  {
   "cell_type": "code",
   "execution_count": 73,
   "metadata": {},
   "outputs": [
    {
     "output_type": "execute_result",
     "data": {
      "text/plain": [
       "     Purchase ID             SN  Age  Gender  Item ID  \\\n",
       "0              0        Lisim78   20    Male      108   \n",
       "1              1    Lisovynya38   40    Male      143   \n",
       "2              2     Ithergue48   24    Male       92   \n",
       "3              3  Chamassasya86   24    Male      100   \n",
       "4              4      Iskosia90   23    Male      131   \n",
       "..           ...            ...  ...     ...      ...   \n",
       "775          775     Aethedru70   21  Female       60   \n",
       "776          776         Iral74   21    Male      164   \n",
       "777          777     Yathecal72   20    Male       67   \n",
       "778          778        Sisur91    7    Male       92   \n",
       "779          779      Ennrian78   24    Male       50   \n",
       "\n",
       "                                     Item Name  Price Age Category  \n",
       "0    Extraction, Quickblade Of Trembling Hands   3.53        20-24  \n",
       "1                            Frenzied Scimitar   1.56          40+  \n",
       "2                                 Final Critic   4.88        20-24  \n",
       "3                                  Blindscythe   3.27        20-24  \n",
       "4                                         Fury   1.44        20-24  \n",
       "..                                         ...    ...          ...  \n",
       "775                                       Wolf   3.54        20-24  \n",
       "776                           Exiled Doomblade   1.63        20-24  \n",
       "777      Celeste, Incarnation of the Corrupted   3.46        20-24  \n",
       "778                               Final Critic   4.19          <10  \n",
       "779                                       Dawn   4.60        20-24  \n",
       "\n",
       "[780 rows x 8 columns]"
      ],
      "text/html": "<div>\n<style scoped>\n    .dataframe tbody tr th:only-of-type {\n        vertical-align: middle;\n    }\n\n    .dataframe tbody tr th {\n        vertical-align: top;\n    }\n\n    .dataframe thead th {\n        text-align: right;\n    }\n</style>\n<table border=\"1\" class=\"dataframe\">\n  <thead>\n    <tr style=\"text-align: right;\">\n      <th></th>\n      <th>Purchase ID</th>\n      <th>SN</th>\n      <th>Age</th>\n      <th>Gender</th>\n      <th>Item ID</th>\n      <th>Item Name</th>\n      <th>Price</th>\n      <th>Age Category</th>\n    </tr>\n  </thead>\n  <tbody>\n    <tr>\n      <th>0</th>\n      <td>0</td>\n      <td>Lisim78</td>\n      <td>20</td>\n      <td>Male</td>\n      <td>108</td>\n      <td>Extraction, Quickblade Of Trembling Hands</td>\n      <td>3.53</td>\n      <td>20-24</td>\n    </tr>\n    <tr>\n      <th>1</th>\n      <td>1</td>\n      <td>Lisovynya38</td>\n      <td>40</td>\n      <td>Male</td>\n      <td>143</td>\n      <td>Frenzied Scimitar</td>\n      <td>1.56</td>\n      <td>40+</td>\n    </tr>\n    <tr>\n      <th>2</th>\n      <td>2</td>\n      <td>Ithergue48</td>\n      <td>24</td>\n      <td>Male</td>\n      <td>92</td>\n      <td>Final Critic</td>\n      <td>4.88</td>\n      <td>20-24</td>\n    </tr>\n    <tr>\n      <th>3</th>\n      <td>3</td>\n      <td>Chamassasya86</td>\n      <td>24</td>\n      <td>Male</td>\n      <td>100</td>\n      <td>Blindscythe</td>\n      <td>3.27</td>\n      <td>20-24</td>\n    </tr>\n    <tr>\n      <th>4</th>\n      <td>4</td>\n      <td>Iskosia90</td>\n      <td>23</td>\n      <td>Male</td>\n      <td>131</td>\n      <td>Fury</td>\n      <td>1.44</td>\n      <td>20-24</td>\n    </tr>\n    <tr>\n      <th>...</th>\n      <td>...</td>\n      <td>...</td>\n      <td>...</td>\n      <td>...</td>\n      <td>...</td>\n      <td>...</td>\n      <td>...</td>\n      <td>...</td>\n    </tr>\n    <tr>\n      <th>775</th>\n      <td>775</td>\n      <td>Aethedru70</td>\n      <td>21</td>\n      <td>Female</td>\n      <td>60</td>\n      <td>Wolf</td>\n      <td>3.54</td>\n      <td>20-24</td>\n    </tr>\n    <tr>\n      <th>776</th>\n      <td>776</td>\n      <td>Iral74</td>\n      <td>21</td>\n      <td>Male</td>\n      <td>164</td>\n      <td>Exiled Doomblade</td>\n      <td>1.63</td>\n      <td>20-24</td>\n    </tr>\n    <tr>\n      <th>777</th>\n      <td>777</td>\n      <td>Yathecal72</td>\n      <td>20</td>\n      <td>Male</td>\n      <td>67</td>\n      <td>Celeste, Incarnation of the Corrupted</td>\n      <td>3.46</td>\n      <td>20-24</td>\n    </tr>\n    <tr>\n      <th>778</th>\n      <td>778</td>\n      <td>Sisur91</td>\n      <td>7</td>\n      <td>Male</td>\n      <td>92</td>\n      <td>Final Critic</td>\n      <td>4.19</td>\n      <td>&lt;10</td>\n    </tr>\n    <tr>\n      <th>779</th>\n      <td>779</td>\n      <td>Ennrian78</td>\n      <td>24</td>\n      <td>Male</td>\n      <td>50</td>\n      <td>Dawn</td>\n      <td>4.60</td>\n      <td>20-24</td>\n    </tr>\n  </tbody>\n</table>\n<p>780 rows × 8 columns</p>\n</div>"
     },
     "metadata": {},
     "execution_count": 73
    }
   ],
   "source": [
    "purchase_data"
   ]
  },
  {
   "cell_type": "code",
   "execution_count": 105,
   "metadata": {},
   "outputs": [
    {
     "output_type": "execute_result",
     "data": {
      "text/plain": [
       "         Total Purchase Value ($)\n",
       "Item ID                          \n",
       "0                            5.12\n",
       "1                           11.77\n",
       "2                           14.88\n",
       "3                           14.94\n",
       "4                            8.50\n",
       "...                           ...\n",
       "178                         50.76\n",
       "179                         26.88\n",
       "181                          8.30\n",
       "182                         12.09\n",
       "183                          3.27\n",
       "\n",
       "[179 rows x 1 columns]"
      ],
      "text/html": "<div>\n<style scoped>\n    .dataframe tbody tr th:only-of-type {\n        vertical-align: middle;\n    }\n\n    .dataframe tbody tr th {\n        vertical-align: top;\n    }\n\n    .dataframe thead th {\n        text-align: right;\n    }\n</style>\n<table border=\"1\" class=\"dataframe\">\n  <thead>\n    <tr style=\"text-align: right;\">\n      <th></th>\n      <th>Total Purchase Value ($)</th>\n    </tr>\n    <tr>\n      <th>Item ID</th>\n      <th></th>\n    </tr>\n  </thead>\n  <tbody>\n    <tr>\n      <th>0</th>\n      <td>5.12</td>\n    </tr>\n    <tr>\n      <th>1</th>\n      <td>11.77</td>\n    </tr>\n    <tr>\n      <th>2</th>\n      <td>14.88</td>\n    </tr>\n    <tr>\n      <th>3</th>\n      <td>14.94</td>\n    </tr>\n    <tr>\n      <th>4</th>\n      <td>8.50</td>\n    </tr>\n    <tr>\n      <th>...</th>\n      <td>...</td>\n    </tr>\n    <tr>\n      <th>178</th>\n      <td>50.76</td>\n    </tr>\n    <tr>\n      <th>179</th>\n      <td>26.88</td>\n    </tr>\n    <tr>\n      <th>181</th>\n      <td>8.30</td>\n    </tr>\n    <tr>\n      <th>182</th>\n      <td>12.09</td>\n    </tr>\n    <tr>\n      <th>183</th>\n      <td>3.27</td>\n    </tr>\n  </tbody>\n</table>\n<p>179 rows × 1 columns</p>\n</div>"
     },
     "metadata": {},
     "execution_count": 105
    }
   ],
   "source": [
    "most_popular_items = purchase_data[['Item ID', 'Price']]\n",
    "most_popular_items = most_popular_items.groupby('Item ID').sum()\n",
    "most_popular_items = most_popular_items.rename(columns={\"Price\": \"Total Purchase Value ($)\"})\n",
    "\n",
    "# most_popular_items['Total Purchase Value ($)'] = most_popular_items.loc('Item Name').sum()\n",
    "most_popular_items"
   ]
  },
  {
   "cell_type": "code",
   "execution_count": 91,
   "metadata": {},
   "outputs": [
    {
     "output_type": "execute_result",
     "data": {
      "text/plain": [
       "     Item ID                                  Item Name  Item Price ($)\n",
       "0        108  Extraction, Quickblade Of Trembling Hands            3.53\n",
       "1        143                          Frenzied Scimitar            1.56\n",
       "2         92                               Final Critic            4.88\n",
       "3        100                                Blindscythe            3.27\n",
       "4        131                                       Fury            1.44\n",
       "..       ...                                        ...             ...\n",
       "664       47                Alpha, Reach of Ending Hope            3.58\n",
       "673      130                                      Alpha            2.07\n",
       "700       90                                   Betrayer            2.94\n",
       "717      177   Winterthorn, Defender of Shifting Worlds            2.08\n",
       "727      104                         Gladiator's Glaive            1.93\n",
       "\n",
       "[179 rows x 3 columns]"
      ],
      "text/html": "<div>\n<style scoped>\n    .dataframe tbody tr th:only-of-type {\n        vertical-align: middle;\n    }\n\n    .dataframe tbody tr th {\n        vertical-align: top;\n    }\n\n    .dataframe thead th {\n        text-align: right;\n    }\n</style>\n<table border=\"1\" class=\"dataframe\">\n  <thead>\n    <tr style=\"text-align: right;\">\n      <th></th>\n      <th>Item ID</th>\n      <th>Item Name</th>\n      <th>Item Price ($)</th>\n    </tr>\n  </thead>\n  <tbody>\n    <tr>\n      <th>0</th>\n      <td>108</td>\n      <td>Extraction, Quickblade Of Trembling Hands</td>\n      <td>3.53</td>\n    </tr>\n    <tr>\n      <th>1</th>\n      <td>143</td>\n      <td>Frenzied Scimitar</td>\n      <td>1.56</td>\n    </tr>\n    <tr>\n      <th>2</th>\n      <td>92</td>\n      <td>Final Critic</td>\n      <td>4.88</td>\n    </tr>\n    <tr>\n      <th>3</th>\n      <td>100</td>\n      <td>Blindscythe</td>\n      <td>3.27</td>\n    </tr>\n    <tr>\n      <th>4</th>\n      <td>131</td>\n      <td>Fury</td>\n      <td>1.44</td>\n    </tr>\n    <tr>\n      <th>...</th>\n      <td>...</td>\n      <td>...</td>\n      <td>...</td>\n    </tr>\n    <tr>\n      <th>664</th>\n      <td>47</td>\n      <td>Alpha, Reach of Ending Hope</td>\n      <td>3.58</td>\n    </tr>\n    <tr>\n      <th>673</th>\n      <td>130</td>\n      <td>Alpha</td>\n      <td>2.07</td>\n    </tr>\n    <tr>\n      <th>700</th>\n      <td>90</td>\n      <td>Betrayer</td>\n      <td>2.94</td>\n    </tr>\n    <tr>\n      <th>717</th>\n      <td>177</td>\n      <td>Winterthorn, Defender of Shifting Worlds</td>\n      <td>2.08</td>\n    </tr>\n    <tr>\n      <th>727</th>\n      <td>104</td>\n      <td>Gladiator's Glaive</td>\n      <td>1.93</td>\n    </tr>\n  </tbody>\n</table>\n<p>179 rows × 3 columns</p>\n</div>"
     },
     "metadata": {},
     "execution_count": 91
    }
   ],
   "source": [
    "items = purchase_data[['Item ID', 'Item Name', 'Price']]\n",
    "items = items.rename(columns={\"Price\": \"Item Price ($)\"})\n",
    "\n",
    "items = items.drop_duplicates(subset=['Item ID'])\n",
    "\n",
    "items"
   ]
  },
  {
   "cell_type": "code",
   "execution_count": 93,
   "metadata": {},
   "outputs": [
    {
     "output_type": "execute_result",
     "data": {
      "text/plain": [
       "         Purchase Count\n",
       "Item ID                \n",
       "0                     4\n",
       "1                     4\n",
       "2                     6\n",
       "3                     6\n",
       "4                     5\n",
       "...                 ...\n",
       "178                  12\n",
       "179                   6\n",
       "181                   5\n",
       "182                   3\n",
       "183                   3\n",
       "\n",
       "[179 rows x 1 columns]"
      ],
      "text/html": "<div>\n<style scoped>\n    .dataframe tbody tr th:only-of-type {\n        vertical-align: middle;\n    }\n\n    .dataframe tbody tr th {\n        vertical-align: top;\n    }\n\n    .dataframe thead th {\n        text-align: right;\n    }\n</style>\n<table border=\"1\" class=\"dataframe\">\n  <thead>\n    <tr style=\"text-align: right;\">\n      <th></th>\n      <th>Purchase Count</th>\n    </tr>\n    <tr>\n      <th>Item ID</th>\n      <th></th>\n    </tr>\n  </thead>\n  <tbody>\n    <tr>\n      <th>0</th>\n      <td>4</td>\n    </tr>\n    <tr>\n      <th>1</th>\n      <td>4</td>\n    </tr>\n    <tr>\n      <th>2</th>\n      <td>6</td>\n    </tr>\n    <tr>\n      <th>3</th>\n      <td>6</td>\n    </tr>\n    <tr>\n      <th>4</th>\n      <td>5</td>\n    </tr>\n    <tr>\n      <th>...</th>\n      <td>...</td>\n    </tr>\n    <tr>\n      <th>178</th>\n      <td>12</td>\n    </tr>\n    <tr>\n      <th>179</th>\n      <td>6</td>\n    </tr>\n    <tr>\n      <th>181</th>\n      <td>5</td>\n    </tr>\n    <tr>\n      <th>182</th>\n      <td>3</td>\n    </tr>\n    <tr>\n      <th>183</th>\n      <td>3</td>\n    </tr>\n  </tbody>\n</table>\n<p>179 rows × 1 columns</p>\n</div>"
     },
     "metadata": {},
     "execution_count": 93
    }
   ],
   "source": [
    "items_count = purchase_data[['Item ID', 'Purchase ID']]\n",
    "items_count = items_count.rename(columns={\"Purchase ID\": \"Purchase Count\"})\n",
    "\n",
    "items_count = items_count.groupby('Item ID').count()\n",
    "items_count\n"
   ]
  },
  {
   "cell_type": "code",
   "execution_count": 106,
   "metadata": {},
   "outputs": [
    {
     "output_type": "execute_result",
     "data": {
      "text/plain": [
       "     Item ID                                  Item Name  Item Price ($)  \\\n",
       "0      108.0  Extraction, Quickblade Of Trembling Hands            3.53   \n",
       "1      143.0                          Frenzied Scimitar            1.56   \n",
       "2       92.0                               Final Critic            4.88   \n",
       "3      100.0                                Blindscythe            3.27   \n",
       "4      131.0                                       Fury            1.44   \n",
       "..       ...                                        ...             ...   \n",
       "664     47.0                Alpha, Reach of Ending Hope            3.58   \n",
       "673    130.0                                      Alpha            2.07   \n",
       "700     90.0                                   Betrayer            2.94   \n",
       "717    177.0   Winterthorn, Defender of Shifting Worlds            2.08   \n",
       "727    104.0                         Gladiator's Glaive            1.93   \n",
       "\n",
       "     Purchase Count  Total Purchase Value ($)  \n",
       "0               4.0                      5.12  \n",
       "1               4.0                     11.77  \n",
       "2               6.0                     14.88  \n",
       "3               6.0                     14.94  \n",
       "4               5.0                      8.50  \n",
       "..              ...                       ...  \n",
       "664             NaN                       NaN  \n",
       "673             NaN                       NaN  \n",
       "700             NaN                       NaN  \n",
       "717             NaN                       NaN  \n",
       "727             NaN                       NaN  \n",
       "\n",
       "[179 rows x 5 columns]"
      ],
      "text/html": "<div>\n<style scoped>\n    .dataframe tbody tr th:only-of-type {\n        vertical-align: middle;\n    }\n\n    .dataframe tbody tr th {\n        vertical-align: top;\n    }\n\n    .dataframe thead th {\n        text-align: right;\n    }\n</style>\n<table border=\"1\" class=\"dataframe\">\n  <thead>\n    <tr style=\"text-align: right;\">\n      <th></th>\n      <th>Item ID</th>\n      <th>Item Name</th>\n      <th>Item Price ($)</th>\n      <th>Purchase Count</th>\n      <th>Total Purchase Value ($)</th>\n    </tr>\n  </thead>\n  <tbody>\n    <tr>\n      <th>0</th>\n      <td>108.0</td>\n      <td>Extraction, Quickblade Of Trembling Hands</td>\n      <td>3.53</td>\n      <td>4.0</td>\n      <td>5.12</td>\n    </tr>\n    <tr>\n      <th>1</th>\n      <td>143.0</td>\n      <td>Frenzied Scimitar</td>\n      <td>1.56</td>\n      <td>4.0</td>\n      <td>11.77</td>\n    </tr>\n    <tr>\n      <th>2</th>\n      <td>92.0</td>\n      <td>Final Critic</td>\n      <td>4.88</td>\n      <td>6.0</td>\n      <td>14.88</td>\n    </tr>\n    <tr>\n      <th>3</th>\n      <td>100.0</td>\n      <td>Blindscythe</td>\n      <td>3.27</td>\n      <td>6.0</td>\n      <td>14.94</td>\n    </tr>\n    <tr>\n      <th>4</th>\n      <td>131.0</td>\n      <td>Fury</td>\n      <td>1.44</td>\n      <td>5.0</td>\n      <td>8.50</td>\n    </tr>\n    <tr>\n      <th>...</th>\n      <td>...</td>\n      <td>...</td>\n      <td>...</td>\n      <td>...</td>\n      <td>...</td>\n    </tr>\n    <tr>\n      <th>664</th>\n      <td>47.0</td>\n      <td>Alpha, Reach of Ending Hope</td>\n      <td>3.58</td>\n      <td>NaN</td>\n      <td>NaN</td>\n    </tr>\n    <tr>\n      <th>673</th>\n      <td>130.0</td>\n      <td>Alpha</td>\n      <td>2.07</td>\n      <td>NaN</td>\n      <td>NaN</td>\n    </tr>\n    <tr>\n      <th>700</th>\n      <td>90.0</td>\n      <td>Betrayer</td>\n      <td>2.94</td>\n      <td>NaN</td>\n      <td>NaN</td>\n    </tr>\n    <tr>\n      <th>717</th>\n      <td>177.0</td>\n      <td>Winterthorn, Defender of Shifting Worlds</td>\n      <td>2.08</td>\n      <td>NaN</td>\n      <td>NaN</td>\n    </tr>\n    <tr>\n      <th>727</th>\n      <td>104.0</td>\n      <td>Gladiator's Glaive</td>\n      <td>1.93</td>\n      <td>NaN</td>\n      <td>NaN</td>\n    </tr>\n  </tbody>\n</table>\n<p>179 rows × 5 columns</p>\n</div>"
     },
     "metadata": {},
     "execution_count": 106
    }
   ],
   "source": [
    "most_popular_items = pd.concat([items, items_count, most_popular_items], axis=1).reindex(items.index)\n",
    "most_popular_items"
   ]
  },
  {
   "cell_type": "code",
   "execution_count": 107,
   "metadata": {},
   "outputs": [
    {
     "output_type": "execute_result",
     "data": {
      "text/plain": [
       "     Item ID                                 Item Name  Item Price ($)  \\\n",
       "92      39.0      Betrayal, Whisper of Grieving Widows            3.94   \n",
       "145     46.0                   Hopeless Ebon Dualblade            1.33   \n",
       "132    145.0                      Fiery Glass Crusader            4.58   \n",
       "108     85.0                            Malificent Bag            1.75   \n",
       "37      73.0                               Ritual Mace            2.05   \n",
       "..       ...                                       ...             ...   \n",
       "664     47.0               Alpha, Reach of Ending Hope            3.58   \n",
       "673    130.0                                     Alpha            2.07   \n",
       "700     90.0                                  Betrayer            2.94   \n",
       "717    177.0  Winterthorn, Defender of Shifting Worlds            2.08   \n",
       "727    104.0                        Gladiator's Glaive            1.93   \n",
       "\n",
       "     Purchase Count  Total Purchase Value ($)  \n",
       "92             13.0                     59.99  \n",
       "145             9.0                     41.22  \n",
       "132             9.0                     28.99  \n",
       "108             9.0                     31.77  \n",
       "37              8.0                     25.28  \n",
       "..              ...                       ...  \n",
       "664             NaN                       NaN  \n",
       "673             NaN                       NaN  \n",
       "700             NaN                       NaN  \n",
       "717             NaN                       NaN  \n",
       "727             NaN                       NaN  \n",
       "\n",
       "[179 rows x 5 columns]"
      ],
      "text/html": "<div>\n<style scoped>\n    .dataframe tbody tr th:only-of-type {\n        vertical-align: middle;\n    }\n\n    .dataframe tbody tr th {\n        vertical-align: top;\n    }\n\n    .dataframe thead th {\n        text-align: right;\n    }\n</style>\n<table border=\"1\" class=\"dataframe\">\n  <thead>\n    <tr style=\"text-align: right;\">\n      <th></th>\n      <th>Item ID</th>\n      <th>Item Name</th>\n      <th>Item Price ($)</th>\n      <th>Purchase Count</th>\n      <th>Total Purchase Value ($)</th>\n    </tr>\n  </thead>\n  <tbody>\n    <tr>\n      <th>92</th>\n      <td>39.0</td>\n      <td>Betrayal, Whisper of Grieving Widows</td>\n      <td>3.94</td>\n      <td>13.0</td>\n      <td>59.99</td>\n    </tr>\n    <tr>\n      <th>145</th>\n      <td>46.0</td>\n      <td>Hopeless Ebon Dualblade</td>\n      <td>1.33</td>\n      <td>9.0</td>\n      <td>41.22</td>\n    </tr>\n    <tr>\n      <th>132</th>\n      <td>145.0</td>\n      <td>Fiery Glass Crusader</td>\n      <td>4.58</td>\n      <td>9.0</td>\n      <td>28.99</td>\n    </tr>\n    <tr>\n      <th>108</th>\n      <td>85.0</td>\n      <td>Malificent Bag</td>\n      <td>1.75</td>\n      <td>9.0</td>\n      <td>31.77</td>\n    </tr>\n    <tr>\n      <th>37</th>\n      <td>73.0</td>\n      <td>Ritual Mace</td>\n      <td>2.05</td>\n      <td>8.0</td>\n      <td>25.28</td>\n    </tr>\n    <tr>\n      <th>...</th>\n      <td>...</td>\n      <td>...</td>\n      <td>...</td>\n      <td>...</td>\n      <td>...</td>\n    </tr>\n    <tr>\n      <th>664</th>\n      <td>47.0</td>\n      <td>Alpha, Reach of Ending Hope</td>\n      <td>3.58</td>\n      <td>NaN</td>\n      <td>NaN</td>\n    </tr>\n    <tr>\n      <th>673</th>\n      <td>130.0</td>\n      <td>Alpha</td>\n      <td>2.07</td>\n      <td>NaN</td>\n      <td>NaN</td>\n    </tr>\n    <tr>\n      <th>700</th>\n      <td>90.0</td>\n      <td>Betrayer</td>\n      <td>2.94</td>\n      <td>NaN</td>\n      <td>NaN</td>\n    </tr>\n    <tr>\n      <th>717</th>\n      <td>177.0</td>\n      <td>Winterthorn, Defender of Shifting Worlds</td>\n      <td>2.08</td>\n      <td>NaN</td>\n      <td>NaN</td>\n    </tr>\n    <tr>\n      <th>727</th>\n      <td>104.0</td>\n      <td>Gladiator's Glaive</td>\n      <td>1.93</td>\n      <td>NaN</td>\n      <td>NaN</td>\n    </tr>\n  </tbody>\n</table>\n<p>179 rows × 5 columns</p>\n</div>"
     },
     "metadata": {},
     "execution_count": 107
    }
   ],
   "source": [
    "most_popular_items = most_popular_items.sort_values(by='Purchase Count', ascending=False)\n",
    "most_popular_items\n"
   ]
  },
  {
   "cell_type": "code",
   "execution_count": 108,
   "metadata": {},
   "outputs": [
    {
     "output_type": "execute_result",
     "data": {
      "text/plain": [
       "     Item ID                             Item Name  Item Price ($)  \\\n",
       "92      39.0  Betrayal, Whisper of Grieving Widows            3.94   \n",
       "145     46.0               Hopeless Ebon Dualblade            1.33   \n",
       "132    145.0                  Fiery Glass Crusader            4.58   \n",
       "108     85.0                        Malificent Bag            1.75   \n",
       "37      73.0                           Ritual Mace            2.05   \n",
       "\n",
       "     Purchase Count  Total Purchase Value ($)  \n",
       "92             13.0                     59.99  \n",
       "145             9.0                     41.22  \n",
       "132             9.0                     28.99  \n",
       "108             9.0                     31.77  \n",
       "37              8.0                     25.28  "
      ],
      "text/html": "<div>\n<style scoped>\n    .dataframe tbody tr th:only-of-type {\n        vertical-align: middle;\n    }\n\n    .dataframe tbody tr th {\n        vertical-align: top;\n    }\n\n    .dataframe thead th {\n        text-align: right;\n    }\n</style>\n<table border=\"1\" class=\"dataframe\">\n  <thead>\n    <tr style=\"text-align: right;\">\n      <th></th>\n      <th>Item ID</th>\n      <th>Item Name</th>\n      <th>Item Price ($)</th>\n      <th>Purchase Count</th>\n      <th>Total Purchase Value ($)</th>\n    </tr>\n  </thead>\n  <tbody>\n    <tr>\n      <th>92</th>\n      <td>39.0</td>\n      <td>Betrayal, Whisper of Grieving Widows</td>\n      <td>3.94</td>\n      <td>13.0</td>\n      <td>59.99</td>\n    </tr>\n    <tr>\n      <th>145</th>\n      <td>46.0</td>\n      <td>Hopeless Ebon Dualblade</td>\n      <td>1.33</td>\n      <td>9.0</td>\n      <td>41.22</td>\n    </tr>\n    <tr>\n      <th>132</th>\n      <td>145.0</td>\n      <td>Fiery Glass Crusader</td>\n      <td>4.58</td>\n      <td>9.0</td>\n      <td>28.99</td>\n    </tr>\n    <tr>\n      <th>108</th>\n      <td>85.0</td>\n      <td>Malificent Bag</td>\n      <td>1.75</td>\n      <td>9.0</td>\n      <td>31.77</td>\n    </tr>\n    <tr>\n      <th>37</th>\n      <td>73.0</td>\n      <td>Ritual Mace</td>\n      <td>2.05</td>\n      <td>8.0</td>\n      <td>25.28</td>\n    </tr>\n  </tbody>\n</table>\n</div>"
     },
     "metadata": {},
     "execution_count": 108
    }
   ],
   "source": [
    "most_popular_items = most_popular_items.head(5)\n",
    "most_popular_items"
   ]
  },
  {
   "cell_type": "code",
   "execution_count": 109,
   "metadata": {},
   "outputs": [
    {
     "output_type": "execute_result",
     "data": {
      "text/plain": [
       "                                    Item Name  Item Price ($)  Purchase Count  \\\n",
       "Item ID                                                                         \n",
       "39.0     Betrayal, Whisper of Grieving Widows            3.94            13.0   \n",
       "46.0                  Hopeless Ebon Dualblade            1.33             9.0   \n",
       "145.0                    Fiery Glass Crusader            4.58             9.0   \n",
       "85.0                           Malificent Bag            1.75             9.0   \n",
       "73.0                              Ritual Mace            2.05             8.0   \n",
       "\n",
       "         Total Purchase Value ($)  \n",
       "Item ID                            \n",
       "39.0                        59.99  \n",
       "46.0                        41.22  \n",
       "145.0                       28.99  \n",
       "85.0                        31.77  \n",
       "73.0                        25.28  "
      ],
      "text/html": "<div>\n<style scoped>\n    .dataframe tbody tr th:only-of-type {\n        vertical-align: middle;\n    }\n\n    .dataframe tbody tr th {\n        vertical-align: top;\n    }\n\n    .dataframe thead th {\n        text-align: right;\n    }\n</style>\n<table border=\"1\" class=\"dataframe\">\n  <thead>\n    <tr style=\"text-align: right;\">\n      <th></th>\n      <th>Item Name</th>\n      <th>Item Price ($)</th>\n      <th>Purchase Count</th>\n      <th>Total Purchase Value ($)</th>\n    </tr>\n    <tr>\n      <th>Item ID</th>\n      <th></th>\n      <th></th>\n      <th></th>\n      <th></th>\n    </tr>\n  </thead>\n  <tbody>\n    <tr>\n      <th>39.0</th>\n      <td>Betrayal, Whisper of Grieving Widows</td>\n      <td>3.94</td>\n      <td>13.0</td>\n      <td>59.99</td>\n    </tr>\n    <tr>\n      <th>46.0</th>\n      <td>Hopeless Ebon Dualblade</td>\n      <td>1.33</td>\n      <td>9.0</td>\n      <td>41.22</td>\n    </tr>\n    <tr>\n      <th>145.0</th>\n      <td>Fiery Glass Crusader</td>\n      <td>4.58</td>\n      <td>9.0</td>\n      <td>28.99</td>\n    </tr>\n    <tr>\n      <th>85.0</th>\n      <td>Malificent Bag</td>\n      <td>1.75</td>\n      <td>9.0</td>\n      <td>31.77</td>\n    </tr>\n    <tr>\n      <th>73.0</th>\n      <td>Ritual Mace</td>\n      <td>2.05</td>\n      <td>8.0</td>\n      <td>25.28</td>\n    </tr>\n  </tbody>\n</table>\n</div>"
     },
     "metadata": {},
     "execution_count": 109
    }
   ],
   "source": [
    "most_popular_items = most_popular_items.set_index('Item ID')\n",
    "most_popular_items"
   ]
  },
  {
   "cell_type": "code",
   "execution_count": 9,
   "metadata": {},
   "outputs": [
    {
     "data": {
      "text/html": [
       "<div>\n",
       "<style scoped>\n",
       "    .dataframe tbody tr th:only-of-type {\n",
       "        vertical-align: middle;\n",
       "    }\n",
       "\n",
       "    .dataframe tbody tr th {\n",
       "        vertical-align: top;\n",
       "    }\n",
       "\n",
       "    .dataframe thead th {\n",
       "        text-align: right;\n",
       "    }\n",
       "</style>\n",
       "<table border=\"1\" class=\"dataframe\">\n",
       "  <thead>\n",
       "    <tr style=\"text-align: right;\">\n",
       "      <th></th>\n",
       "      <th></th>\n",
       "      <th>Purchase Count</th>\n",
       "      <th>Item Price</th>\n",
       "      <th>Total Purchase Value</th>\n",
       "    </tr>\n",
       "    <tr>\n",
       "      <th>Item ID</th>\n",
       "      <th>Item Name</th>\n",
       "      <th></th>\n",
       "      <th></th>\n",
       "      <th></th>\n",
       "    </tr>\n",
       "  </thead>\n",
       "  <tbody>\n",
       "    <tr>\n",
       "      <th>92</th>\n",
       "      <th>Final Critic</th>\n",
       "      <td>13</td>\n",
       "      <td>$4.61</td>\n",
       "      <td>$59.99</td>\n",
       "    </tr>\n",
       "    <tr>\n",
       "      <th>178</th>\n",
       "      <th>Oathbreaker, Last Hope of the Breaking Storm</th>\n",
       "      <td>12</td>\n",
       "      <td>$4.23</td>\n",
       "      <td>$50.76</td>\n",
       "    </tr>\n",
       "    <tr>\n",
       "      <th>145</th>\n",
       "      <th>Fiery Glass Crusader</th>\n",
       "      <td>9</td>\n",
       "      <td>$4.58</td>\n",
       "      <td>$41.22</td>\n",
       "    </tr>\n",
       "    <tr>\n",
       "      <th>132</th>\n",
       "      <th>Persuasion</th>\n",
       "      <td>9</td>\n",
       "      <td>$3.22</td>\n",
       "      <td>$28.99</td>\n",
       "    </tr>\n",
       "    <tr>\n",
       "      <th>108</th>\n",
       "      <th>Extraction, Quickblade Of Trembling Hands</th>\n",
       "      <td>9</td>\n",
       "      <td>$3.53</td>\n",
       "      <td>$31.77</td>\n",
       "    </tr>\n",
       "  </tbody>\n",
       "</table>\n",
       "</div>"
      ],
      "text/plain": [
       "                                                     Purchase Count  \\\n",
       "Item ID Item Name                                                     \n",
       "92      Final Critic                                             13   \n",
       "178     Oathbreaker, Last Hope of the Breaking Storm             12   \n",
       "145     Fiery Glass Crusader                                      9   \n",
       "132     Persuasion                                                9   \n",
       "108     Extraction, Quickblade Of Trembling Hands                 9   \n",
       "\n",
       "                                                     Item Price  \\\n",
       "Item ID Item Name                                                 \n",
       "92      Final Critic                                      $4.61   \n",
       "178     Oathbreaker, Last Hope of the Breaking Storm      $4.23   \n",
       "145     Fiery Glass Crusader                              $4.58   \n",
       "132     Persuasion                                        $3.22   \n",
       "108     Extraction, Quickblade Of Trembling Hands         $3.53   \n",
       "\n",
       "                                                     Total Purchase Value  \n",
       "Item ID Item Name                                                          \n",
       "92      Final Critic                                               $59.99  \n",
       "178     Oathbreaker, Last Hope of the Breaking Storm               $50.76  \n",
       "145     Fiery Glass Crusader                                       $41.22  \n",
       "132     Persuasion                                                 $28.99  \n",
       "108     Extraction, Quickblade Of Trembling Hands                  $31.77  "
      ]
     },
     "execution_count": 9,
     "metadata": {},
     "output_type": "execute_result"
    }
   ],
   "source": []
  },
  {
   "cell_type": "markdown",
   "metadata": {},
   "source": [
    "## Most Profitable Items"
   ]
  },
  {
   "cell_type": "markdown",
   "metadata": {},
   "source": [
    "* Sort the above table by total purchase value in descending order\n",
    "\n",
    "\n",
    "* Optional: give the displayed data cleaner formatting\n",
    "\n",
    "\n",
    "* Display a preview of the data frame\n",
    "\n"
   ]
  },
  {
   "cell_type": "code",
   "execution_count": 10,
   "metadata": {
    "scrolled": true
   },
   "outputs": [
    {
     "data": {
      "text/html": [
       "<div>\n",
       "<style scoped>\n",
       "    .dataframe tbody tr th:only-of-type {\n",
       "        vertical-align: middle;\n",
       "    }\n",
       "\n",
       "    .dataframe tbody tr th {\n",
       "        vertical-align: top;\n",
       "    }\n",
       "\n",
       "    .dataframe thead th {\n",
       "        text-align: right;\n",
       "    }\n",
       "</style>\n",
       "<table border=\"1\" class=\"dataframe\">\n",
       "  <thead>\n",
       "    <tr style=\"text-align: right;\">\n",
       "      <th></th>\n",
       "      <th></th>\n",
       "      <th>Purchase Count</th>\n",
       "      <th>Item Price</th>\n",
       "      <th>Total Purchase Value</th>\n",
       "    </tr>\n",
       "    <tr>\n",
       "      <th>Item ID</th>\n",
       "      <th>Item Name</th>\n",
       "      <th></th>\n",
       "      <th></th>\n",
       "      <th></th>\n",
       "    </tr>\n",
       "  </thead>\n",
       "  <tbody>\n",
       "    <tr>\n",
       "      <th>92</th>\n",
       "      <th>Final Critic</th>\n",
       "      <td>13</td>\n",
       "      <td>$4.61</td>\n",
       "      <td>$59.99</td>\n",
       "    </tr>\n",
       "    <tr>\n",
       "      <th>178</th>\n",
       "      <th>Oathbreaker, Last Hope of the Breaking Storm</th>\n",
       "      <td>12</td>\n",
       "      <td>$4.23</td>\n",
       "      <td>$50.76</td>\n",
       "    </tr>\n",
       "    <tr>\n",
       "      <th>82</th>\n",
       "      <th>Nirvana</th>\n",
       "      <td>9</td>\n",
       "      <td>$4.90</td>\n",
       "      <td>$44.10</td>\n",
       "    </tr>\n",
       "    <tr>\n",
       "      <th>145</th>\n",
       "      <th>Fiery Glass Crusader</th>\n",
       "      <td>9</td>\n",
       "      <td>$4.58</td>\n",
       "      <td>$41.22</td>\n",
       "    </tr>\n",
       "    <tr>\n",
       "      <th>103</th>\n",
       "      <th>Singed Scalpel</th>\n",
       "      <td>8</td>\n",
       "      <td>$4.35</td>\n",
       "      <td>$34.80</td>\n",
       "    </tr>\n",
       "  </tbody>\n",
       "</table>\n",
       "</div>"
      ],
      "text/plain": [
       "                                                     Purchase Count  \\\n",
       "Item ID Item Name                                                     \n",
       "92      Final Critic                                             13   \n",
       "178     Oathbreaker, Last Hope of the Breaking Storm             12   \n",
       "82      Nirvana                                                   9   \n",
       "145     Fiery Glass Crusader                                      9   \n",
       "103     Singed Scalpel                                            8   \n",
       "\n",
       "                                                     Item Price  \\\n",
       "Item ID Item Name                                                 \n",
       "92      Final Critic                                      $4.61   \n",
       "178     Oathbreaker, Last Hope of the Breaking Storm      $4.23   \n",
       "82      Nirvana                                           $4.90   \n",
       "145     Fiery Glass Crusader                              $4.58   \n",
       "103     Singed Scalpel                                    $4.35   \n",
       "\n",
       "                                                     Total Purchase Value  \n",
       "Item ID Item Name                                                          \n",
       "92      Final Critic                                               $59.99  \n",
       "178     Oathbreaker, Last Hope of the Breaking Storm               $50.76  \n",
       "82      Nirvana                                                    $44.10  \n",
       "145     Fiery Glass Crusader                                       $41.22  \n",
       "103     Singed Scalpel                                             $34.80  "
      ]
     },
     "execution_count": 10,
     "metadata": {},
     "output_type": "execute_result"
    }
   ],
   "source": []
  }
 ],
 "metadata": {
  "anaconda-cloud": {},
  "kernel_info": {
   "name": "python3"
  },
  "kernelspec": {
   "name": "python383jvsc74a57bd05ec47171b3f453e18dd5b54d8e1a40461b86f8d53c68c08315be766817c76581",
   "display_name": "Python 3.8.3 64-bit (conda)"
  },
  "language_info": {
   "codemirror_mode": {
    "name": "ipython",
    "version": 3
   },
   "file_extension": ".py",
   "mimetype": "text/x-python",
   "name": "python",
   "nbconvert_exporter": "python",
   "pygments_lexer": "ipython3",
   "version": "3.8.3-final"
  },
  "latex_envs": {
   "LaTeX_envs_menu_present": true,
   "autoclose": false,
   "autocomplete": true,
   "bibliofile": "biblio.bib",
   "cite_by": "apalike",
   "current_citInitial": 1,
   "eqLabelWithNumbers": true,
   "eqNumInitial": 1,
   "hotkeys": {
    "equation": "Ctrl-E",
    "itemize": "Ctrl-I"
   },
   "labels_anchors": false,
   "latex_user_defs": false,
   "report_style_numbering": false,
   "user_envs_cfg": false
  },
  "nteract": {
   "version": "0.2.0"
  }
 },
 "nbformat": 4,
 "nbformat_minor": 2
}